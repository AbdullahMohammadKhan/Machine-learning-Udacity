{
 "cells": [
  {
   "cell_type": "markdown",
   "metadata": {},
   "source": [
    "### Installing all the libraries needed for this project"
   ]
  },
  {
   "cell_type": "code",
   "execution_count": 40,
   "metadata": {
    "collapsed": false
   },
   "outputs": [],
   "source": [
    "%matplotlib inline\n",
    "import matplotlib.pyplot as plt\n",
    "import seaborn as sns\n",
    "import pandas as pd\n",
    "import sklearn\n",
    "import numpy as np\n",
    "from sklearn.feature_extraction.text import CountVectorizer, TfidfTransformer\n",
    "from sklearn.naive_bayes import MultinomialNB\n",
    "from sklearn.svm import SVC, LinearSVC\n",
    "from sklearn.metrics import classification_report, f1_score, accuracy_score, confusion_matrix\n",
    "from sklearn.pipeline import Pipeline\n",
    "from sklearn.grid_search import GridSearchCV\n",
    "from sklearn.cross_validation import StratifiedKFold, cross_val_score, train_test_split \n",
    "from sklearn.ensemble import RandomForestClassifier\n",
    "import string\n",
    "import re\n",
    "from nltk.corpus import stopwords"
   ]
  },
  {
   "cell_type": "markdown",
   "metadata": {},
   "source": [
    "## Step: 1 Loading the Dataset"
   ]
  },
  {
   "cell_type": "markdown",
   "metadata": {},
   "source": [
    "The dataset is available at https://archive.ics.uci.edu/ml/datasets/SMS+Spam+Collection.The dataset contains more than 5 thousand SMS phone messages"
   ]
  },
  {
   "cell_type": "code",
   "execution_count": 41,
   "metadata": {
    "collapsed": false
   },
   "outputs": [
    {
     "name": "stdout",
     "output_type": "stream",
     "text": [
      "5574\n",
      "spam\tFreeMsg Hey there darling it's been 3 week's now and no word back! I'd like some fun you up for it still? Tb ok! XxX std chgs to send, £1.50 to rcv\n"
     ]
    }
   ],
   "source": [
    "# list of all the lines of text messages.\n",
    "page = open('SMSSpamCollection')\n",
    "mess = [line.rstrip() for line in page]\n",
    "print len(mess)\n",
    "print mess[5]"
   ]
  },
  {
   "cell_type": "code",
   "execution_count": 42,
   "metadata": {
    "collapsed": false
   },
   "outputs": [
    {
     "name": "stdout",
     "output_type": "stream",
     "text": [
      "0 ham\tGo until jurong point, crazy.. Available only in bugis n great world la e buffet... Cine there got amore wat...\n",
      "1 ham\tOk lar... Joking wif u oni...\n",
      "2 spam\tFree entry in 2 a wkly comp to win FA Cup final tkts 21st May 2005. Text FA to 87121 to receive entry question(std txt rate)T&C's apply 08452810075over18's\n",
      "3 ham\tU dun say so early hor... U c already then say...\n",
      "4 ham\tNah I don't think he goes to usf, he lives around here though\n",
      "5 spam\tFreeMsg Hey there darling it's been 3 week's now and no word back! I'd like some fun you up for it still? Tb ok! XxX std chgs to send, £1.50 to rcv\n",
      "6 ham\tEven my brother is not like to speak with me. They treat me like aids patent.\n"
     ]
    }
   ],
   "source": [
    "#Printing top 7 messages with the message number(index)\n",
    "for index, message in enumerate(mess[:7]):\n",
    "    print index, message"
   ]
  },
  {
   "cell_type": "code",
   "execution_count": 43,
   "metadata": {
    "collapsed": false
   },
   "outputs": [
    {
     "name": "stdout",
     "output_type": "stream",
     "text": [
      "  label                                            message\n",
      "0   ham  Go until jurong point, crazy.. Available only ...\n",
      "1   ham                      Ok lar... Joking wif u oni...\n",
      "2  spam  Free entry in 2 a wkly comp to win FA Cup fina...\n",
      "3   ham  U dun say so early hor... U c already then say...\n",
      "4   ham  Nah I don't think he goes to usf, he lives aro...\n",
      "(5572, 2)\n"
     ]
    }
   ],
   "source": [
    "# Reading the dataset into a dataframe mess and displaying the top 5 rows and the dimension of the mess dataframe\n",
    "mess = pd.read_csv('SMSSpamCollection', sep='\\t', names=['label', 'message'])\n",
    "print mess.head()\n",
    "print mess.shape"
   ]
  },
  {
   "cell_type": "markdown",
   "metadata": {},
   "source": [
    "## Step 2 : Data Exploration"
   ]
  },
  {
   "cell_type": "code",
   "execution_count": 44,
   "metadata": {
    "collapsed": false
   },
   "outputs": [
    {
     "name": "stdout",
     "output_type": "stream",
     "text": [
      "ham     4825\n",
      "spam     747\n",
      "Name: label, dtype: int64\n",
      "ham     0.865937\n",
      "spam    0.134063\n",
      "Name: label, dtype: float64\n"
     ]
    }
   ],
   "source": [
    "#Checking for the counts and percentage based on the label\n",
    "print mess.label.value_counts()\n",
    "print mess.label.value_counts()/len(mess)"
   ]
  },
  {
   "cell_type": "markdown",
   "metadata": {},
   "source": [
    "We can notice that the dataset is highly imbalanced dataset with 4825 ham messages and just 747 spam messages meaning 87% of the dataset belongs to ham messages and just 13% belongs to the spam class."
   ]
  },
  {
   "cell_type": "code",
   "execution_count": 45,
   "metadata": {
    "collapsed": false
   },
   "outputs": [
    {
     "name": "stdout",
     "output_type": "stream",
     "text": [
      "  label                                            message  len\n",
      "0   ham  Go until jurong point, crazy.. Available only ...  111\n",
      "1   ham                      Ok lar... Joking wif u oni...   29\n",
      "2  spam  Free entry in 2 a wkly comp to win FA Cup fina...  155\n",
      "3   ham  U dun say so early hor... U c already then say...   49\n",
      "4   ham  Nah I don't think he goes to usf, he lives aro...   61\n",
      "<class 'pandas.core.frame.DataFrame'>\n",
      "RangeIndex: 5572 entries, 0 to 5571\n",
      "Data columns (total 3 columns):\n",
      "label      5572 non-null object\n",
      "message    5572 non-null object\n",
      "len        5572 non-null int64\n",
      "dtypes: int64(1), object(2)\n",
      "memory usage: 130.7+ KB\n",
      "None\n"
     ]
    }
   ],
   "source": [
    "# Creating a new feature \"len\" which tells the lenth of the text messages\n",
    "mess['len'] = mess['message'].map(lambda x: len(x))\n",
    "print mess.head()\n",
    "print mess.info()"
   ]
  },
  {
   "cell_type": "code",
   "execution_count": 46,
   "metadata": {
    "collapsed": false
   },
   "outputs": [
    {
     "data": {
      "text/plain": [
       "count    5572.000000\n",
       "mean       80.616296\n",
       "std        60.015593\n",
       "min         2.000000\n",
       "25%        36.000000\n",
       "50%        62.000000\n",
       "75%       122.000000\n",
       "max       910.000000\n",
       "Name: len, dtype: float64"
      ]
     },
     "execution_count": 46,
     "metadata": {},
     "output_type": "execute_result"
    }
   ],
   "source": [
    "mess['len'].describe()"
   ]
  },
  {
   "cell_type": "code",
   "execution_count": 47,
   "metadata": {
    "collapsed": false
   },
   "outputs": [
    {
     "data": {
      "text/plain": [
       "array([[<matplotlib.axes._subplots.AxesSubplot object at 0x00000000104102B0>]], dtype=object)"
      ]
     },
     "execution_count": 47,
     "metadata": {},
     "output_type": "execute_result"
    },
    {
     "data": {
      "image/png": "[encoded data removed]",
      "text/plain": [
       "<matplotlib.figure.Figure at 0xf2c1748>"
      ]
     },
     "metadata": {},
     "output_type": "display_data"
    }
   ],
   "source": [
    "#Lets visualize the distribution of the lenth of the text messages\n",
    "mess.hist(column='len',bins=20)"
   ]
  },
  {
   "cell_type": "code",
   "execution_count": 48,
   "metadata": {
    "collapsed": false
   },
   "outputs": [
    {
     "data": {
      "text/plain": [
       "array([<matplotlib.axes._subplots.AxesSubplot object at 0x0000000010AC7D68>,\n",
       "       <matplotlib.axes._subplots.AxesSubplot object at 0x0000000010AEEBA8>], dtype=object)"
      ]
     },
     "execution_count": 48,
     "metadata": {},
     "output_type": "execute_result"
    },
    {
     "data": {
      "image/png": "[encoded data removed]",
      "text/plain": [
       "<matplotlib.figure.Figure at 0xd8cca58>"
      ]
     },
     "metadata": {},
     "output_type": "display_data"
    }
   ],
   "source": [
    "#Visualization of the lenth across label\n",
    "mess.hist(column='len', by='label', bins=20, figsize=(12,7))"
   ]
  },
  {
   "cell_type": "markdown",
   "metadata": {},
   "source": [
    "Based on the above visualization it is clear that ham messages tends to be shorter and spam messages are of longer length."
   ]
  },
  {
   "cell_type": "markdown",
   "metadata": {},
   "source": [
    "## Step 3 : Data Cleaning and Text preprocessing"
   ]
  },
  {
   "cell_type": "code",
   "execution_count": 49,
   "metadata": {
    "collapsed": false
   },
   "outputs": [
    {
     "name": "stdout",
     "output_type": "stream",
     "text": [
      "[nltk_data] Downloading package stopwords to\n",
      "[nltk_data]     C:\\Users\\bhavy\\AppData\\Roaming\\nltk_data...\n",
      "[nltk_data]   Package stopwords is already up-to-date!\n"
     ]
    },
    {
     "data": {
      "text/plain": [
       "True"
      ]
     },
     "execution_count": 49,
     "metadata": {},
     "output_type": "execute_result"
    }
   ],
   "source": [
    "# impoting a list of english stopwords from NLTK library\n",
    "import nltk\n",
    "nltk.download(\"stopwords\")"
   ]
  },
  {
   "cell_type": "code",
   "execution_count": 50,
   "metadata": {
    "collapsed": false
   },
   "outputs": [],
   "source": [
    "#Creating a function called text_process which will remove the non letters, punctuation, and stop words\n",
    "def text_process(mess):\n",
    "\n",
    "    # Remove non-letters        \n",
    "    letters = re.sub(\"[^a-zA-Z]\", \" \", mess)\n",
    "    \n",
    "    # Remove punctuation\n",
    "    nopunc = [char for char in letters if char not in string.punctuation]\n",
    "\n",
    "    # Join the characters\n",
    "    nopunc = ''.join(nopunc)\n",
    "    \n",
    "    # Rremove stopwords\n",
    "    return [word for word in nopunc.split() if word.lower() not in stopwords.words('english')]"
   ]
  },
  {
   "cell_type": "code",
   "execution_count": 51,
   "metadata": {
    "collapsed": false
   },
   "outputs": [
    {
     "name": "stdout",
     "output_type": "stream",
     "text": [
      "['gonna', 'home', 'soon', 'want', 'talk', 'stuff', 'anymore', 'tonight', 'k', 'cried', 'enough', 'today']\n"
     ]
    }
   ],
   "source": [
    "#Checking if the function defined above is working fine\n",
    "clean_words = text_process(mess['message'][10] )\n",
    "print clean_words"
   ]
  },
  {
   "cell_type": "code",
   "execution_count": 52,
   "metadata": {
    "collapsed": false
   },
   "outputs": [
    {
     "data": {
      "text/plain": [
       "0       [Go, jurong, point, crazy, Available, bugis, n...\n",
       "1                          [Ok, lar, Joking, wif, u, oni]\n",
       "2       [Free, entry, wkly, comp, win, FA, Cup, final,...\n",
       "3           [U, dun, say, early, hor, U, c, already, say]\n",
       "4          [Nah, think, goes, usf, lives, around, though]\n",
       "5       [FreeMsg, Hey, darling, week, word, back, like...\n",
       "6       [Even, brother, like, speak, treat, like, aids...\n",
       "7       [per, request, Melle, Melle, Oru, Minnaminungi...\n",
       "8       [WINNER, valued, network, customer, selected, ...\n",
       "9       [mobile, months, U, R, entitled, Update, lates...\n",
       "10      [gonna, home, soon, want, talk, stuff, anymore...\n",
       "11      [SIX, chances, win, CASH, pounds, txt, CSH, se...\n",
       "12      [URGENT, week, FREE, membership, Prize, Jackpo...\n",
       "13      [searching, right, words, thank, breather, pro...\n",
       "14                                         [DATE, SUNDAY]\n",
       "15      [XXXMobileMovieClub, use, credit, click, WAP, ...\n",
       "16                                      [Oh, k, watching]\n",
       "17      [Eh, u, remember, spell, name, Yes, v, naughty...\n",
       "18                     [Fine, way, u, feel, way, gota, b]\n",
       "19      [England, v, Macedonia, dont, miss, goals, tea...\n",
       "20                               [seriously, spell, name]\n",
       "21                   [going, try, months, ha, ha, joking]\n",
       "22                    [pay, first, lar, da, stock, comin]\n",
       "23      [Aft, finish, lunch, go, str, lor, Ard, smth, ...\n",
       "24               [Ffffffffff, Alright, way, meet, sooner]\n",
       "25      [forced, eat, slice, really, hungry, tho, suck...\n",
       "26                              [Lol, always, convincing]\n",
       "27      [catch, bus, frying, egg, make, tea, eating, m...\n",
       "28             [back, amp, packing, car, let, know, room]\n",
       "29       [Ahhh, Work, vaguely, remember, feel, like, Lol]\n",
       "                              ...                        \n",
       "5542                    [Armand, says, get, ass, epsilon]\n",
       "5543          [U, still, havent, got, urself, jacket, ah]\n",
       "5544    [taking, derek, amp, taylor, walmart, back, ti...\n",
       "5545                          [Hi, durban, still, number]\n",
       "5546                         [Ic, lotta, childporn, cars]\n",
       "5547    [contract, mobile, Mnths, Latest, Motorola, No...\n",
       "5548                                 [trying, weekend, V]\n",
       "5549    [know, wot, people, wear, shirts, jumpers, hat...\n",
       "5550                             [Cool, time, think, get]\n",
       "5551                   [Wen, get, spiritual, deep, great]\n",
       "5552    [safe, trip, Nigeria, Wish, happiness, soon, c...\n",
       "5553                           [Hahaha, use, brain, dear]\n",
       "5554    [Well, keep, mind, got, enough, gas, one, roun...\n",
       "5555    [Yeh, Indians, nice, Tho, kane, bit, shud, go,...\n",
       "5556               [Yes, u, texted, Pshew, missing, much]\n",
       "5557    [meant, calculation, lt, gt, units, lt, gt, sc...\n",
       "5558                                 [Sorry, call, later]\n",
       "5559              [next, lt, gt, hours, imma, flip, shit]\n",
       "5560                        [Anything, lor, Juz, us, lor]\n",
       "5561    [Get, dump, heap, mom, decided, come, lowes, B...\n",
       "5562    [Ok, lor, Sony, ericsson, salesman, ask, shuhu...\n",
       "5563                                [Ard, like, dat, lor]\n",
       "5564              [wait, til, least, wednesday, see, get]\n",
       "5565                                           [Huh, lei]\n",
       "5566    [REMINDER, get, pounds, free, call, credit, de...\n",
       "5567    [nd, time, tried, contact, u, U, Pound, prize,...\n",
       "5568                      [b, going, esplanade, fr, home]\n",
       "5569                            [Pity, mood, suggestions]\n",
       "5570    [guy, bitching, acted, like, interested, buyin...\n",
       "5571                                   [Rofl, true, name]\n",
       "Name: message, dtype: object"
      ]
     },
     "execution_count": 52,
     "metadata": {},
     "output_type": "execute_result"
    }
   ],
   "source": [
    "#Applying the function on the mess dataframe\n",
    "mess['message'].apply(text_process)"
   ]
  },
  {
   "cell_type": "markdown",
   "metadata": {},
   "source": [
    "## Step 4 : Vectorization\n",
    "\n",
    "Now its time to convert each  messages into a vector that the SciKit Learn's algorithm models can work with.\n",
    "We'll follow the below three steps to do that using the bag-of-words model:\n",
    "\n",
    " * Count how many times does a word occur in each message (Known as term frequency)\n",
    " * Weigh the counts, so that frequent tokens get lower weight (inverse document frequency)\n",
    " * Normalize the vectors to unit length, to abstract from the original text length (L2 norm)\n",
    " \n",
    "The Bag of Words model learns a vocabulary from all of the documents, then models each document by counting the number of times each word appears. For example, consider the following two sentences:\n",
    " * Sentence 1: \"The cat sat on the hat\"\n",
    " * Sentence 2: \"The dog ate the cat and the hat\"\n",
    "\n",
    "From these two sentences, our vocabulary is as follows: { the, cat, sat, on, hat, dog, ate, and }\n",
    "To get our bags of words, we count the number of times each word occurs in each sentence. In Sentence 1, \"the\" appears twice, and \"cat\", \"sat\", \"on\", and \"hat\" each appear once, so the feature vector for Sentence 1 is: { the, cat, sat, on, hat, dog, ate, and }\n",
    " * Sentence 1: { 2, 1, 1, 1, 1, 0, 0, 0 }\n",
    " * Similarly, the features for Sentence 2 are: { 3, 1, 0, 0, 1, 1, 1, 1}"
   ]
  },
  {
   "cell_type": "code",
   "execution_count": 53,
   "metadata": {
    "collapsed": false
   },
   "outputs": [
    {
     "data": {
      "text/plain": [
       "(5572, 9624)"
      ]
     },
     "execution_count": 53,
     "metadata": {},
     "output_type": "execute_result"
    }
   ],
   "source": [
    "# Initialize the \"CountVectorizer\" object, which is scikit-learn's bag of words tool\n",
    "# fit_transform() does two functions: First, it fits the model and learns the vocabulary\n",
    "# second, it transforms our data into vectors.\n",
    "\n",
    "cv= CountVectorizer(analyzer=text_process)\n",
    "cv_transform = cv.fit_transform(mess['message'])\n",
    "cv_transform.shape"
   ]
  },
  {
   "cell_type": "code",
   "execution_count": 54,
   "metadata": {
    "collapsed": false
   },
   "outputs": [
    {
     "name": "stdout",
     "output_type": "stream",
     "text": [
      "Had your mobile 11 months or more? U R entitled to Update to the latest colour mobiles with camera for Free! Call The Mobile Update Co FREE on 08002986030\n",
      "  (0, 464)\t1\n",
      "  (0, 531)\t1\n",
      "  (0, 905)\t1\n",
      "  (0, 982)\t1\n",
      "  (0, 1822)\t1\n",
      "  (0, 2251)\t1\n",
      "  (0, 2946)\t1\n",
      "  (0, 3003)\t2\n",
      "  (0, 4086)\t1\n",
      "  (0, 4357)\t1\n",
      "  (0, 5033)\t1\n",
      "  (0, 6296)\t1\n",
      "  (0, 6746)\t1\n",
      "  (0, 6747)\t1\n",
      "  (0, 6777)\t1\n"
     ]
    }
   ],
   "source": [
    "message10 = mess['message'][9]\n",
    "print message10\n",
    "transformed_10 = cv.transform([message10])\n",
    "print transformed_10"
   ]
  },
  {
   "cell_type": "code",
   "execution_count": 55,
   "metadata": {
    "collapsed": false
   },
   "outputs": [
    {
     "name": "stdout",
     "output_type": "stream",
     "text": [
      "FREE\n",
      "Update\n"
     ]
    }
   ],
   "source": [
    "print cv.get_feature_names()[905]\n",
    "print cv.get_feature_names()[3003]"
   ]
  },
  {
   "cell_type": "code",
   "execution_count": 56,
   "metadata": {
    "collapsed": false
   },
   "outputs": [
    {
     "name": "stdout",
     "output_type": "stream",
     "text": [
      "['ABOUTAS', 'ABTA', 'ACCEPT', 'ACL', 'ACTION', 'ACTUALLY', 'AD', 'ADAM', 'ADDAMSFA', 'ADP', 'ADRINK', 'AE', 'AFEW', 'AFTERNOON', 'AG', 'AGE', 'AGES', 'AGO', 'AH', 'AIG', 'AINT', 'AJ', 'AL', 'ALERT', 'ALETTER', 'ALEX', 'ALRITE', 'ALSO', 'ALWAYS', 'AMY', 'ANAL', 'ANNIE', 'ANS', 'ANSWER', 'ANTELOPE', 'ANYTHING', 'ANYWAY', 'AOM', 'APPY', 'APRIL', 'AQ', 'AREA', 'ARIES', 'AROUND', 'ARR', 'ASAP', 'ASJESUS', 'ASKED', 'ASLEEP', 'ASTHERE', 'ASUSUAL', 'ATM', 'AUCTION', 'AUGUST', 'AV', 'AVA', 'AVE', 'AVENT', 'AWAITING', 'AWARD', 'AXEL', 'AXIS', 'Aah', 'Aaniye', 'Aaooooright', 'Ab', 'Abbey', 'Abeg', 'Aberdeen', 'Abiola', 'Abt', 'Accept', 'Accident', 'AccommodationVouchers', 'Account', 'Accounts', 'Ache', 'Acnt', 'Aco', 'Activate', 'Active', 'Actually', 'Address', 'Admirer', 'Adrian', 'Adult', 'Aeronautics', 'Affections', 'Aft', 'AfterNoon', 'Afternoon', 'Afternoons', 'Aftr', 'Agalla', 'Age', 'Ages', 'Ah', 'Ahhh', 'Ahhhh', 'Ahmad', 'Aight', 'Air', 'Airtel', 'Aiya', 'Aiyah', 'Aiyar', 'Aiyo', 'Aka', 'Akon', 'Al', 'Alaikkum', 'Alaipayuthe', 'Aldrine', 'AlertFrom', 'Alex', 'Alfie', 'Algarve', 'Allah', 'Allo', 'Almost', 'Already', 'Alright', 'Alrite', 'Also', 'Although', 'Always', 'Alwys', 'Amanda', 'Amazing', 'Ambrith', 'American', 'Ami', 'Amrca', 'Amrita', 'Amy', 'Annoying', 'Another', 'Anyone', 'Anything', 'Anytime', 'Anyway', 'Anyways', 'Apart', 'Apnt', 'Apo', 'Apparently', 'Applausestore', 'Apple', 'Apply', 'Apps', 'Appt', 'Apr', 'Ar', 'Arabian', 'Arcade', 'Ard', 'Argh', 'Argument', 'Armand', 'Arms', 'Arngd', 'Arrow', 'Arsenal', 'Arul', 'Arun', 'Ashley', 'Asian', 'Ask', 'Asking', 'Aslamalaikkum', 'Astronomer', 'Athletic', 'Atlanta', 'Atlast', 'Atleast', 'Attractive', 'Auction', 'Audrey', 'Audrie', 'August', 'Auntie', 'Australia', 'Available', 'Ave', 'Avenge', 'Awarded', 'Awesome', 'Aww', 'Awww', 'Ay', 'B', 'BA', 'BABE', 'BABES', 'BABY', 'BACK', 'BACKWARDS', 'BAHAMAS', 'BAILIFF', 'BAK', 'BANG', 'BANK', 'BANNEDUK', 'BARMED', 'BATH', 'BB', 'BBC', 'BBD', 'BBDELUXE', 'BCK', 'BCM', 'BCMSFWC', 'BCoz', 'BEAUTIFUL', 'BED', 'BEDROOM', 'BEER', 'BEGIN', 'BEHIND', 'BELIEVE', 'BEST', 'BETTER', 'BETTERSN', 'BIDS', 'BIG', 'BILL', 'BILLING', 'BIRD', 'BIRTHDAY', 'BIT', 'BK', 'BLOKE', 'BLOKES', 'BLOOD', 'BMW', 'BOATIN', 'BONUS', 'BOO', 'BOOKS', 'BORED', 'BORING', 'BORN', 'BOUT', 'BOX', 'BOYF', 'BOYFRIEND', 'BP', 'BRAND', 'BREAK', 'BREAKIN', 'BREATHE', 'BREKKIE', 'BRISTOL', 'BROKE', 'BROTHER', 'BSLVYL', 'BT', 'BTHERE', 'BTW', 'BUDDY', 'BUS', 'BUTTHERES', 'BUZ', 'BYATCH', 'Baaaaaaaabe', 'Baaaaabe', 'Babe', 'Babes', 'Baby', 'BabyGoodbye', 'Back', 'Bad', 'Badrith', 'Bahamas', 'Bajarangabali', 'Ball', 'Balls', 'Bam', 'BangBabes', 'Bani', 'Bank', 'Barbie', 'Barkleys', 'Barry', 'Bbq', 'Bc', 'Bcm', 'Bcoz', 'Bears', 'Beautiful', 'Beauty', 'Bec', 'Becaus', 'Become', 'Becomes', 'Becoz', 'Beer', 'Beerage', 'Behind', 'Belovd', 'Ben', 'Bennys', 'Bergkamp', 'Best', 'Beth', 'Better', 'Beware', 'BhamB', 'Big', 'Bill', 'Bin', 'Biola', 'Biro', 'Birthday', 'Bishan', 'Bit', 'Bite', 'Bits', 'Black', 'Blacko', 'Blank', 'Bless', 'Blind', 'Block', 'Bloody', 'Bloomberg', 'Blu', 'Blue', 'Bluetooth', 'BluetoothHdset', 'Bob', 'Body', 'Bognor', 'Boltblue', 'Bone', 'Bonus', 'Boo', 'Book', 'Booked', 'Bookmark', 'Boooo', 'Boost', 'Bored', 'Boss', 'Bought', 'Box', 'Boy', 'Boys', 'Brainless', 'Brandy', 'Bray', 'Brb', 'Brdget', 'Break', 'Breaker', 'Bremoved', 'Brief', 'Bright', 'Brilliant', 'Bring', 'Bristol', 'British', 'Britney', 'Broadband', 'Brother', 'Brought', 'Brown', 'Bstfrnd', 'Bt', 'Btw', 'Buffy', 'Bugis', 'Building', 'Bull', 'Burger', 'Burns', 'Busy', 'Buy', 'Buzz', 'Buzzzz', 'Bx', 'Bye', 'C', 'CAKE', 'CAL', 'CALL', 'CALLED', 'CALLIN', 'CALM', 'CAME', 'CAMERA', 'CANCEL', 'CANT', 'CARD', 'CARE', 'CAREFUL', 'CARLIE', 'CASH', 'CAT', 'CATCH', 'CAUSE', 'CC', 'CD', 'CDGT', 'CDs', 'CER', 'CERI', 'CHA', 'CHANCE', 'CHARGE', 'CHARITY', 'CHAT', 'CHATLINES', 'CHECKIN', 'CHEER', 'CHEERED', 'CHEERS', 'CHILLIN', 'CHIT', 'CHOSEN', 'CL', 'CLAIM', 'CLAIRE', 'CLEAN', 'CLUB', 'CLUBSAISAI', 'CLoSE', 'CM', 'CNN', 'COLLECT', 'COLLEGE', 'COM', 'COME', 'COMIN', 'COMMON', 'COMPETITION', 'COMPLETELY', 'COMUK', 'CONCERNED', 'CONTENTION', 'CONTRACT', 'CONVINCED', 'COOL', 'COS', 'COUNTINLOTS', 'CR', 'CRAZYIN', 'CREDIT', 'CRISIS', 'CRO', 'CSH', 'CU', 'CUD', 'CULDNT', 'CUM', 'CUP', 'CUSOON', 'CUST', 'CUTE', 'CW', 'CaRE', 'Cab', 'Cable', 'Cali', 'Call', 'CallFREEFONE', 'Caller', 'Callers', 'Callertune', 'Calling', 'Calls', 'Camcorder', 'Camera', 'Canada', 'Canary', 'Cancel', 'Cancer', 'Cannot', 'Cant', 'Captain', 'Cardiff', 'Care', 'Career', 'Careful', 'Carlos', 'Carry', 'Case', 'Cash', 'Cashbin', 'Catching', 'Caught', 'Cause', 'Cbe', 'Celebrated', 'Celebrations', 'Centre', 'Cha', 'Chachi', 'Chance', 'Change', 'Channel', 'Charles', 'Chart', 'Chasing', 'Chat', 'Cheap', 'Check', 'Checkmate', 'Cheer', 'Cheers', 'Chef', 'Chikku', 'Children', 'Childrens', 'Chinatown', 'Chinese', 'Chk', 'Chloe', 'Choose', 'Christians', 'Christmas', 'Ciao', 'Cine', 'City', 'Claim', 'Classic', 'Click', 'Clos', 'Close', 'Club', 'Cncl', 'Co', 'Coca', 'Code', 'Coffee', 'Cola', 'Cold', 'Colin', 'Colleagues', 'Collect', 'Colour', 'Com', 'Come', 'Comfort', 'Common', 'Companion', 'Company', 'Compass', 'Complete', 'Compliments', 'Concentrate', 'Confidence', 'Congrats', 'Congratulations', 'Consider', 'Contact', 'Content', 'Convey', 'Cook', 'Cool', 'Cornwall', 'Correct', 'Cos', 'Cost', 'Costa', 'Costs', 'Cougar', 'Could', 'Courageous', 'Cover', 'Coz', 'Cps', 'Crab', 'Crack', 'Craigslist', 'Cramps', 'Crazy', 'Credit', 'Cribbs', 'Croydon', 'Crucify', 'Cruel', 'Crying', 'Cs', 'CsBCM', 'CsC', 'Ctagg', 'Ctargg', 'Cttargg', 'Ctter', 'Cttergg', 'Ctxt', 'Cud', 'Cup', 'Cust', 'CustCare', 'Customer', 'CustomerCare', 'Cut', 'Cute', 'Cutefrnd', 'Cutter', 'Cuz', 'DA', 'DABOOKS', 'DADS', 'DAMMIT', 'DAN', 'DARLIN', 'DAS', 'DATE', 'DATEBox', 'DAY', 'DAYS', 'DB', 'DD', 'DE', 'DEAD', 'DECIDED', 'DECIMAL', 'DEF', 'DEFO', 'DEL', 'DENA', 'DETAILS', 'DEVIOUSBITCH', 'DIDNT', 'DIGITAL', 'DIRTY', 'DIS', 'DISCOUNT', 'DLF', 'DOCD', 'DOCKS', 'DOESDISCOUNT', 'DOESNT', 'DOGBREATH', 'DOIN', 'DONATE', 'DONE', 'DONT', 'DONTIGNORE', 'DONTMATTER', 'DONTPLEASE', 'DOT', 'DOUBLE', 'DOWNON', 'DPS', 'DRACULA', 'DRAW', 'DREAMS', 'DREAMZ', 'DRINK', 'DRIVE', 'DRUNK', 'DUE', 'DUMB', 'DVD', 'DX', 'Da', 'Daaaaa', 'Dad', 'Daddy', 'Dai', 'Damn', 'Dan', 'Dare', 'Darling', 'Darren', 'Dasara', 'Dat', 'Date', 'Dates', 'Dating', 'Datz', 'Dave', 'Day', 'De', 'Deal', 'Dear', 'December', 'Declare', 'Deeraj', 'Def', 'Del', 'Delhi', 'Deliver', 'Delivered', 'DeliveredTomorrow', 'Delivery', 'Den', 'Dependable', 'Depends', 'Derp', 'Designation', 'Desires', 'Determined', 'Detroit', 'Devils', 'Dey', 'Dhoni', 'Dial', 'Dick', 'Dictionary', 'Die', 'Digital', 'Dileep', 'Din', 'Ding', 'Dino', 'Dint', 'Dip', 'Direct', 'Dirty', 'Dis', 'Disconnect', 'Discussed', 'Diseases', 'Ditto', 'Divorce', 'Diwali', 'Dizzamn', 'Dizzee', 'Dload', 'Dnt', 'Doc', 'Doctor', 'Dogging', 'Doggy', 'Doll', 'Dolls', 'Dom', 'Done', 'Dont', 'DontCha', 'Dormitory', 'Dorothy', 'Double', 'DoubleMins', 'DoubleTxt', 'Download', 'Dozens', 'Dr', 'Draw', 'Dream', 'Drink', 'Drinks', 'Driver', 'Drop', 'Duchess', 'Dude', 'Dun', 'Dunno', 'Dvd', 'E', 'EACHOTHER', 'EASTENDERS', 'EAT', 'EC', 'EH', 'ELLO', 'EMAIL', 'ENC', 'END', 'ENG', 'ENGLAND', 'ENJOY', 'ENJOYIN', 'ENTER', 'ENTRY', 'ENUFCREDEIT', 'ER', 'ESPECIALLY', 'EURO', 'EVA', 'EVE', 'EVEN', 'EVENING', 'EVER', 'EVERY', 'EVERYTHIN', 'EVONE', 'EXACT', 'EXAMS', 'EXETER', 'EXORCIST', 'EXP', 'EXPLAIN', 'EXPLOSIVE', 'EXTREME', 'EY', 'EZ', 'Early', 'Earth', 'East', 'Easter', 'Easy', 'Eat', 'Eatin', 'Echo', 'Eckankar', 'Edison', 'Ee', 'Eek', 'Eerie', 'Egbon', 'Eh', 'Eire', 'Either', 'Ela', 'Election', 'Eleven', 'Elvis', 'Em', 'Email', 'Emily', 'Emotion', 'En', 'End', 'Energy', 'England', 'English', 'Enjoy', 'Enna', 'Entry', 'Er', 'Erm', 'Err', 'Erutupalam', 'Ese', 'Especially', 'Esplanade', 'EssexCM', 'Eta', 'Euro', 'EuroDisinc', 'Europe', 'Eve', 'Even', 'Evening', 'Evenings', 'Ever', 'Every', 'Everybody', 'Everyday', 'Everyone', 'Everything', 'Everytime', 'Evn', 'Evr', 'Evrey', 'Evry', 'Ew', 'Exactly', 'Exam', 'Excellent', 'Except', 'Executive', 'Exorcism', 'Expected', 'Expecting', 'Expires', 'Explain', 'Express', 'Expression', 'Extra', 'Eyed', 'Eyes', 'F', 'FA', 'FANCY', 'FANTASIES', 'FANTASTIC', 'FANTASY', 'FAR', 'FAV', 'FEEL', 'FEELINGOOD', 'FEELLIKW', 'FFFFUUUUUUU', 'FIELDOF', 'FIFA', 'FIFTEEN', 'FIGHTS', 'FILTH', 'FINAL', 'FIND', 'FINE', 'FINEST', 'FINISH', 'FIRST', 'FIT', 'FIZZ', 'FL', 'FLAG', 'FLOWER', 'FM', 'FML', 'FONE', 'FONIN', 'FOREVER', 'FOUNDURSELF', 'FR', 'FRAN', 'FRANYxxxxx', 'FREE', 'FREEFONE', 'FREEMSG', 'FREEPHONE', 'FREINDS', 'FRESHERS', 'FRIEND', 'FRIENDS', 'FRIENDSHIP', 'FRMCLOUD', 'FRND', 'FRNDS', 'FRNDSHIP', 'FROMWRK', 'FUCK', 'FUCKED', 'FUCKIN', 'FUCKING', 'FUCKINNICE', 'FUDGE', 'FUN', 'FUNNY', 'FWD', 'Face', 'Facebook', 'Fails', 'Fair', 'Faith', 'Fancy', 'Fantasy', 'Farm', 'Farrell', 'Fat', 'Father', 'Fear', 'Feb', 'Feel', 'Feelin', 'Feeling', 'Feels', 'Fffff', 'Ffffffffff', 'Fifty', 'Fighting', 'Filling', 'Fills', 'Filthy', 'Final', 'Finally', 'Find', 'Fine', 'Fingers', 'Finish', 'Finished', 'First', 'Flag', 'Flight', 'Flirt', 'Flung', 'Fml', 'Foley', 'Follow', 'Foned', 'Food', 'Fools', 'Football', 'Force', 'Forever', 'Forevr', 'Forgets', 'Forgot', 'Forwarded', 'Found', 'Fr', 'Frankie', 'Franxx', 'Fredericksburg', 'Free', 'FreeMSG', 'FreeMsg', 'Freeentry', 'Freemsg', 'Fresh', 'Fri', 'Friday', 'Friends', 'Friendship', 'Frnd', 'Frog', 'Fuck', 'Full', 'Fun', 'Funny', 'Future', 'Fuuuuck', 'Fwiw', 'Fyi', 'G', 'GAIL', 'GAILxx', 'GAME', 'GANG', 'GAS', 'GB', 'GBP', 'GE', 'GENDER', 'GENT', 'GET', 'GETHA', 'GETTIN', 'GEVA', 'GHOST', 'GIFTS', 'GIMMI', 'GIRL', 'GIRLS', 'GIV', 'GIVE', 'GIVEN', 'GM', 'GMW', 'GN', 'GNT', 'GO', 'GOD', 'GOIN', 'GOING', 'GONE', 'GONNA', 'GONNAMISSU', 'GOOD', 'GOODEVENING', 'GOODFRIEND', 'GOODMORNING', 'GOODNIGHT', 'GOODNITE', 'GOODNOON', 'GOODTIME', 'GORGEOUS', 'GOSS', 'GOSSIP', 'GOT', 'GOTMARRIED', 'GOTTA', 'GOWER', 'GR', 'GRAN', 'GRAVEL', 'GREAT', 'GROW', 'GSOH', 'GUARANTEED', 'GUD', 'GURL', 'Gage', 'Gain', 'Gal', 'Gam', 'Game', 'Games', 'Gamestar', 'Ganesh', 'Garbage', 'Gardener', 'Gary', 'Gay', 'Gaze', 'Gd', 'Ge', 'Gee', 'Geeee', 'Geeeee', 'Genius', 'Gently', 'Geoenvironmental', 'George', 'Germany', 'Get', 'Gettin', 'Getting', 'Gibbs', 'Gift', 'Gimme', 'Gin', 'Girl', 'Girls', 'Give', 'Glad', 'Gn', 'Gnarls', 'Go', 'GoTo', 'Goal', 'God', 'Gods', 'Goin', 'Going', 'Gokila', 'GoldDigger', 'Golf', 'Good', 'Goodmorning', 'Goodnight', 'Goodnoon', 'Goodo', 'Google', 'Gopalettan', 'Gosh', 'Gossip', 'Got', 'Goto', 'Gotta', 'Gr', 'Grahmbell', 'Granite', 'Gravity', 'Grazed', 'Great', 'Green', 'Greet', 'Greetings', 'Grl', 'Grumpy', 'Gsex', 'Guai', 'Guaranteed', 'Gud', 'Gudni', 'Gudnite', 'Gudnyt', 'Guess', 'Guessin', 'Guide', 'Guild', 'Gumby', 'Guy', 'Guys', 'Gyno', 'H', 'HALF', 'HAPPY', 'HARD', 'HARDCORE', 'HARDEST', 'HARRY', 'HATES', 'HAUGHAIGHGTUJHYGUJ', 'HAV', 'HAVBEEN', 'HAVEBEEN', 'HAVENT', 'HAVENTCN', 'HAVIN', 'HB', 'HCL', 'HEART', 'HELL', 'HELLO', 'HELLOGORGEOUS', 'HELP', 'HEY', 'HF', 'HG', 'HI', 'HIDE', 'HIT', 'HIYA', 'HL', 'HMM', 'HMV', 'HOLIDAY', 'HOME', 'HON', 'HONEY', 'HONI', 'HOPE', 'HOPEU', 'HORO', 'HOSPITAL', 'HOT', 'HOTMIX', 'HOUSE', 'HOWDY', 'HOWS', 'HOWU', 'HP', 'HRS', 'HTTP', 'HU', 'HUN', 'HUNNY', 'HV', 'Ha', 'Habit', 'Hack', 'Haf', 'Haha', 'Hahaha', 'Hai', 'Haiyoh', 'Haiz', 'Half', 'Hallaq', 'Halloween', 'Hands', 'Handset', 'Hang', 'Hanging', 'Hanuman', 'Hanumanji', 'Happy', 'Hard', 'Hardcore', 'Hari', 'Harish', 'Harry', 'Hasbro', 'Hav', 'Havent', 'Havnt', 'Head', 'Headin', 'Headset', 'Healer', 'Hear', 'Heart', 'Hearts', 'Hee', 'Heehee', 'HehE', 'Height', 'Helen', 'Hell', 'Hello', 'Helloooo', 'Help', 'Helpline', 'Henry', 'Hero', 'Heroes', 'Hey', 'Hhahhaahahah', 'Hi', 'High', 'Hint', 'History', 'Hit', 'Hitler', 'Hiya', 'Hlp', 'Hm', 'Hmm', 'Hmmm', 'Hmmmm', 'Hmph', 'Ho', 'Hockey', 'Hogli', 'Hogolo', 'Hol', 'Holby', 'Holder', 'Holding', 'Holiday', 'Holla', 'Hols', 'Holy', 'Home', 'Homeowners', 'Honestly', 'Honey', 'Honeybee', 'Hoody', 'Hook', 'Hope', 'Hopefully', 'Hoping', 'Horrible', 'Hospital', 'Hospitals', 'Host', 'Hot', 'Hotel', 'Hottest', 'House', 'Howda', 'However', 'Hows', 'Howz', 'Hrishi', 'Hrs', 'Hubby', 'Hugs', 'Huh', 'Hui', 'Hungry', 'Hurry', 'Hurt', 'Hurts', 'Hyde', 'Hype', 'IAS', 'IBH', 'IBHltd', 'IBN', 'ID', 'IDIOT', 'IDPS', 'IFINK', 'IG', 'IJUST', 'IKEA', 'IKNO', 'IKNOW', 'IL', 'ILEAVE', 'ILL', 'ILLSPEAK', 'IM', 'IMAT', 'IMF', 'IMIN', 'IMPORTANT', 'INC', 'INCLU', 'INCONVENIENCE', 'INDIA', 'INDIANS', 'INDYAROCKS', 'INFORM', 'INFORMATION', 'INK', 'INR', 'INSTEAD', 'INTELLIGENT', 'INTERFLORA', 'INTERVIW', 'INVITED', 'IP', 'IQ', 'ISH', 'ISNT', 'ISV', 'ITXT', 'IVE', 'IWANA', 'Iam', 'Ibiza', 'Ic', 'Ice', 'Icic', 'Id', 'Idea', 'Identifier', 'Idew', 'Idk', 'Ill', 'Ilol', 'Im', 'Imagine', 'Immediately', 'Important', 'Imprtant', 'Including', 'Inclusive', 'Incorrect', 'Incredible', 'Indeed', 'Independence', 'India', 'Indian', 'Indians', 'Indyarocks', 'Inever', 'Infact', 'Inform', 'Information', 'Innocent', 'Insha', 'Inshah', 'Instant', 'Intelligent', 'Interested', 'Interflora', 'Invaders', 'Invest', 'Iraq', 'Iriver', 'Irritates', 'Isaiah', 'Islands', 'Italian', 'Itna', 'Itz', 'Ive', 'Iwas', 'Iyo', 'Izzit', 'J', 'JADE', 'JAN', 'JANE', 'JANINExx', 'JANX', 'JAZ', 'JD', 'JEN', 'JESS', 'JHL', 'JJC', 'JOBYET', 'JSCO', 'JSco', 'JUL', 'JULY', 'JUS', 'JUSTFOUND', 'JUSWOKE', 'JX', 'Jackpot', 'Jada', 'James', 'Jamster', 'Jamz', 'Jane', 'January', 'Japanese', 'Jason', 'Jay', 'Jealous', 'Jen', 'Jenny', 'Jenxxx', 'Jeremiah', 'Jeri', 'Jerk', 'Jerry', 'Jersey', 'Jesus', 'Jez', 'Jia', 'Joanna', 'John', 'Join', 'Joke', 'Jokes', 'Jokin', 'Joking', 'Jolly', 'Jon', 'Jones', 'Jordan', 'Jorge', 'Jos', 'Joy', 'Jst', 'Jstfrnd', 'Jsut', 'July', 'June', 'Junna', 'Jus', 'Juz', 'K', 'KATE', 'KAVALAN', 'KBSubject', 'KEEP', 'KING', 'KISS', 'KIng', 'KL', 'KNACKERED', 'KNOW', 'KNOWS', 'KR', 'KUDI', 'Kaiez', 'Kallis', 'Kanagu', 'Karaoke', 'Kate', 'Katexxx', 'Kath', 'Kay', 'Keep', 'Ken', 'Kent', 'Kerala', 'KeralaCircle', 'Keris', 'Kicchu', 'Kick', 'Kids', 'Kidz', 'Kind', 'Kinda', 'Kindly', 'King', 'Kingdom', 'Kit', 'Knock', 'Know', 'Kothi', 'Kusruthi', 'L', 'LA', 'LADIES', 'LAPTOP', 'LAST', 'LATE', 'LATER', 'LAY', 'LCCLTD', 'LDN', 'LDNS', 'LDNW', 'LE', 'LEAVE', 'LEKDOG', 'LES', 'LET', 'LETS', 'LF', 'LIFE', 'LIFT', 'LIKE', 'LIKELY', 'LIKEYOUR', 'LIKING', 'LILY', 'LISTEN', 'LISTENING', 'LITTLE', 'LIVE', 'LKPOBOX', 'LLC', 'LLSPEAK', 'LMAO', 'LOCAL', 'LOCAXX', 'LOG', 'LOL', 'LONG', 'LONGER', 'LOOK', 'LOOKIN', 'LORD', 'LOST', 'LOT', 'LOTR', 'LOTS', 'LOU', 'LOVE', 'LOVEJEN', 'LOVEME', 'LP', 'LRG', 'LS', 'LST', 'LUCKY', 'LUCY', 'LUCYxx', 'LUSH', 'LUTON', 'LUV', 'Lacs', 'Ladies', 'Lancaster', 'Landline', 'Lands', 'Langport', 'Lara', 'Large', 'Last', 'Later', 'Latest', 'Laugh', 'Laughed', 'Laughing', 'Ldew', 'Ldn', 'LdnW', 'Leaf', 'Leanne', 'Leave', 'Leaving', 'Left', 'Lemme', 'Lemon', 'Lessons', 'Let', 'Lets', 'Libertines', 'Lies', 'Life', 'Lifpartnr', 'Like', 'Lil', 'Limited', 'Lindsay', 'Line', 'Linerental', 'Lion', 'Lions', 'Litres', 'Live', 'Liverpool', 'Living', 'Lk', 'Lmao', 'Loads', 'Loan', 'Loans', 'Log', 'Logon', 'Lol', 'Lolnice', 'Lololo', 'London', 'Lonely', 'Long', 'LookAtMe', 'Looking', 'Looks', 'Lool', 'Loooooool', 'Loosu', 'Lots', 'Lovable', 'Love', 'Loved', 'Lovely', 'Lover', 'Loverboy', 'Loves', 'Loving', 'Low', 'Loyalty', 'Ltd', 'LtdHelpDesk', 'Luck', 'Luckily', 'Lucky', 'Lucozade', 'Lucy', 'Lul', 'Luv', 'Lux', 'Luxury', 'Lvblefrnd', 'MAD', 'MADE', 'MAHAL', 'MAKE', 'MALL', 'MAN', 'MANEESHA', 'MARCH', 'MARRIED', 'MARSMS', 'MAT', 'MATCH', 'MATCHED', 'MATE', 'MAYBE', 'MECAUSE', 'MEET', 'MEETIN', 'MEGA', 'MELNITE', 'MEMBERS', 'MEREMEMBERIN', 'MESSAGE', 'MESSED', 'MF', 'MFL', 'MIDNIGHT', 'MILLIONS', 'MIN', 'MINE', 'MINI', 'MINS', 'MINUTES', 'MISS', 'MISSED', 'MISSIN', 'MISSY', 'MISTAKE', 'MITE', 'MIX', 'MK', 'MMM', 'MMSto', 'MO', 'MOAN', 'MOB', 'MOBILE', 'MOBNO', 'MOMENT', 'MON', 'MONKEESPEOPLE', 'MONKEYAROUND', 'MONO', 'MONOC', 'MOON', 'MORAL', 'MORNING', 'MORO', 'MOROW', 'MORRO', 'MORROW', 'MOVIE', 'MP', 'MQUIZ', 'MR', 'MRNG', 'MRW', 'MSG', 'MSGRCVD', 'MSGS', 'MTALK', 'MTmsg', 'MUCH', 'MUCHXXLOVE', 'MUM', 'MUMS', 'MUNSTERS', 'MUSIC', 'MUST', 'MWEN', 'MYCALLS', 'Maangalyam', 'Maat', 'Macedonia', 'Macha', 'Machan', 'Madam', 'Made', 'Mah', 'Mahaveer', 'Maid', 'Mailbox', 'Maintain', 'Make', 'Makes', 'Making', 'Male', 'Mallika', 'Man', 'Manchester', 'Mandan', 'Mandy', 'Many', 'Map', 'March', 'Maretare', 'Margaret', 'Mark', 'Marley', 'Married', 'Maruti', 'Marvel', 'Match', 'Mathe', 'Mathews', 'Matrix', 'Matthew', 'Max', 'May', 'Mayb', 'Maybe', 'McFly', 'Means', 'Meanwhile', 'Meat', 'Meds', 'Meet', 'Meeting', 'Melle', 'Men', 'Merry', 'Message', 'Messages', 'Messaging', 'Met', 'Michael', 'Midnight', 'Might', 'Mila', 'Mileage', 'Miles', 'Milk', 'Min', 'Mind', 'Mine', 'Minimum', 'Minnaminunginte', 'Mins', 'Miserable', 'Misplaced', 'Miss', 'Missed', 'Missing', 'Mite', 'Mittelschmertz', 'Mm', 'Mmm', 'Mmmm', 'Mmmmm', 'Mmmmmm', 'Mmmmmmm', 'Mnths', 'Mob', 'MobStoreQuiz', 'MobcudB', 'Mobile', 'MobileUpd', 'Mobiles', 'MobilesDirect', 'Mobileupd', 'Moby', 'MobyPOBox', 'Mode', 'Moji', 'MojiBiola', 'Mom', 'Moment', 'Moms', 'Mon', 'Monday', 'Money', 'Monthly', 'MonthlySubscription', 'Moon', 'Moral', 'Morning', 'Mornings', 'Mostly', 'Mother', 'Motivate', 'Motorola', 'Mountains', 'Movie', 'Mr', 'Ms', 'Msg', 'MsgrcvdHG', 'Msgs', 'Mt', 'Mths', 'Mtmsgrcvd', 'Muah', 'Much', 'Muhommad', 'Multiply', 'Mum', 'Mumtaz', 'Murdered', 'Music', 'Must', 'Musta', 'Muz', 'Mwahs', 'MySpace', 'Mystery', 'N', 'NAKED', 'NAME', 'NBME', 'NDSHIP', 'NEED', 'NEEDS', 'NEFT', 'NEO', 'NETHING', 'NETWORKS', 'NEVA', 'NEVER', 'NEW', 'NEWAY', 'NEWQUAY', 'NHS', 'NIC', 'NICE', 'NICHOLS', 'NIGHT', 'NITE', 'NITW', 'NNFWFLY', 'NOK', 'NOKIA', 'NONE', 'NOTHING', 'NOWHERE', 'NR', 'NRI', 'NTT', 'NUMBER', 'NVQ', 'NY', 'NYTHO', 'Nah', 'Name', 'Nan', 'Nasdaq', 'Natalie', 'Natalja', 'National', 'Nationwide', 'Natural', 'Nature', 'Near', 'Need', 'Neighbour', 'Neither', 'Neshanth', 'Netcollex', 'Network', 'Networking', 'Neva', 'Never', 'Neville', 'New', 'Neway', 'Newport', 'News', 'Next', 'Ni', 'Nic', 'Nice', 'Nick', 'Nickey', 'Nigeria', 'Nigh', 'Night', 'Nights', 'Nikiyu', 'Nimbomsons', 'Nimya', 'Nite', 'NoWorriesLoans', 'Nobody', 'Noice', 'Nokia', 'Nokias', 'None', 'Nookii', 'Nooooooo', 'Noooooooo', 'Nope', 'Norcorp', 'Normal', 'Normally', 'Nothin', 'Nothing', 'Nottingham', 'November', 'Nowadays', 'Nt', 'Number', 'Nurungu', 'Nutter', 'Nver', 'Nvm', 'Nw', 'Nyt', 'OFFICE', 'OFSI', 'OFTEN', 'OH', 'OJA', 'OK', 'OKDEN', 'OLD', 'OLI', 'ONCALL', 'ONE', 'ONLYFOUND', 'ONTO', 'OPT', 'ORANGE', 'ORDINATOR', 'OREOS', 'OTBox', 'OTHERWISE', 'OURBACKS', 'OUTL', 'OUTSOMEWHERE', 'OVERDOSE', 'Obviously', 'Ocean', 'Ofcourse', 'Offer', 'Oh', 'Oi', 'Oic', 'Ok', 'Okay', 'Okey', 'Okie', 'Okies', 'Okors', 'Ola', 'Old', 'Olol', 'Omg', 'Omw', 'Onam', 'One', 'Onion', 'Onum', 'Ooh', 'Oooh', 'Oooooh', 'Ooooooh', 'Oops', 'Open', 'Opinion', 'Opt', 'OptOut', 'Optout', 'Orange', 'Oranges', 'Orchard', 'Order', 'Organizer', 'Orh', 'Oru', 'Others', 'Otherwise', 'Othrwise', 'Oyea', 'Oz', 'P', 'PA', 'PARENTS', 'PARIS', 'PARK', 'PARTNER', 'PARTY', 'PASS', 'PAUL', 'PAY', 'PAYED', 'PC', 'PEACH', 'PERIL', 'PERSOLVO', 'PERSON', 'PETE', 'PETEXXX', 'PETROL', 'PHONE', 'PHP', 'PIC', 'PICK', 'PICS', 'PICSFREE', 'PIN', 'PISS', 'PIX', 'PLAY', 'PLEASE', 'PLEASSSSSSSEEEEEE', 'PLS', 'PLUS', 'PM', 'PO', 'POBOX', 'POBOXox', 'POBox', 'POD', 'POINT', 'POKKIRI', 'POLY', 'POLYC', 'POLYPHONIC', 'POLYS', 'POOR', 'PORN', 'PORTIONS', 'POST', 'POSTCARD', 'POUND', 'POWER', 'PPL', 'PPM', 'PREMIER', 'PRESCHOOLCO', 'PRICE', 'PRIVACY', 'PRIVATE', 'PRIZEAWAITING', 'PROBLEM', 'PROBPOP', 'PROBTHAT', 'PROPERLY', 'PS', 'PSP', 'PSXTRA', 'PT', 'PUB', 'PUTTIN', 'PX', 'Pa', 'Package', 'Pain', 'Painful', 'Panasonic', 'Pandy', 'Pansy', 'Panther', 'Parents', 'Paris', 'Park', 'Part', 'Party', 'Pass', 'Passwords', 'Pathaya', 'Patrick', 'Pavanaputra', 'Payee', 'Peace', 'Peaceful', 'Pen', 'Penny', 'People', 'Per', 'Perhaps', 'Peripherals', 'Persian', 'Person', 'Personality', 'Pest', 'Pete', 'Petey', 'Petrol', 'Pg', 'Ph', 'Pharmacy', 'Phil', 'Phoenix', 'Phone', 'Phony', 'Pic', 'Pick', 'Pics', 'Pie', 'Piggy', 'Pilates', 'Pin', 'Pink', 'Pity', 'Pix', 'Pl', 'PlanetTalkInstant', 'Platt', 'Play', 'Player', 'Playin', 'Please', 'Pleasure', 'Pls', 'Plus', 'Plyr', 'Plz', 'Po', 'PoBox', 'PocketBabe', 'Points', 'Police', 'Polo', 'Poly', 'Polyphonic', 'Polys', 'Poop', 'Poor', 'Popcorn', 'Pose', 'Potter', 'Pound', 'Poyyarikatur', 'Ppw', 'Prabha', 'Prabu', 'Prakesh', 'Prasanth', 'Prashanthettan', 'Praveesh', 'Pray', 'Prayrs', 'Predicte', 'Prem', 'Premarica', 'Prepare', 'President', 'Presleys', 'Press', 'Prey', 'Price', 'Pride', 'Princess', 'Printer', 'Prize', 'Pro', 'Probably', 'Problms', 'Prof', 'Promo', 'Promotion', 'Props', 'Proverb', 'Provided', 'Pshew', 'Psychiatrist', 'Psychic', 'Psychologist', 'Ptbo', 'Pub', 'Purity', 'Purple', 'PushButton', 'Put', 'Putting', 'Q', 'QF', 'QJKGIGHJJGCBL', 'QP', 'QU', 'QUITE', 'QUITEAMUZING', 'Qatar', 'QlynnBV', 'Que', 'Queen', 'Queries', 'Ques', 'Question', 'Questions', 'Quick', 'Quite', 'Quiz', 'Quote', 'R', 'RALLY', 'RANDOM', 'RANG', 'RCT', 'READ', 'REAL', 'REALISE', 'REALITY', 'REALLY', 'REALLYNEED', 'REALY', 'REBEL', 'RECD', 'RECEIVE', 'RECPT', 'RED', 'REGRET', 'REMEMBER', 'REMINDER', 'REPLY', 'REPLYS', 'REPORT', 'RETURN', 'REVEAL', 'REVISION', 'REWARD', 'RG', 'RGENT', 'RIGHT', 'RING', 'RINGS', 'RINGTONE', 'RISE', 'RITE', 'ROMCAPspam', 'ROOM', 'ROSES', 'RP', 'RR', 'RS', 'RSTM', 'RT', 'RTM', 'RTO', 'RUDI', 'RV', 'RVx', 'RW', 'RWM', 'Racal', 'Rain', 'Raining', 'Raj', 'Raji', 'Rajitha', 'Rajnikant', 'Rakhesh', 'Rally', 'Ramaduth', 'Randy', 'Ranjith', 'Ranju', 'Rate', 'Rats', 'Raviyog', 'Rayman', 'Reach', 'Reaction', 'Read', 'Reading', 'Ready', 'Real', 'Really', 'Realy', 'Reason', 'Received', 'Reckon', 'Records', 'Red', 'Ref', 'Reference', 'Reflection', 'Refused', 'Regards', 'Registered', 'Remember', 'RememberI', 'Remembered', 'Remembr', 'Remembrs', 'Remind', 'Reminder', 'Reminding', 'Remove', 'Rent', 'Rental', 'Reply', 'Requests', 'Resend', 'Respect', 'Respectful', 'Response', 'Reverse', 'Rgds', 'Ride', 'Right', 'Rightio', 'Ring', 'Ringtone', 'Ringtones', 'Rock', 'Rodds', 'Rodger', 'Rofl', 'Roger', 'Romantic', 'Ron', 'Rose', 'Row', 'Rs', 'Rum', 'Ryder', 'SAD', 'SAE', 'SAID', 'SAM', 'SARY', 'SAT', 'SATTHEN', 'SAUSAGE', 'SAW', 'SAY', 'SCARY', 'SCOOL', 'SCOTLAND', 'SD', 'SED', 'SEE', 'SEEING', 'SEEMED', 'SEEN', 'SELFINDEPENDENCE', 'SELFISH', 'SEND', 'SENDS', 'SENT', 'SERIOUSLY', 'SERVICES', 'SERVs', 'SEX', 'SEXYCHAT', 'SF', 'SHALL', 'SHAME', 'SHEFFIELD', 'SHESIL', 'SHIT', 'SHITIN', 'SHITINNIT', 'SHOP', 'SHOW', 'SHOWR', 'SHUDVETOLD', 'SI', 'SIB', 'SIM', 'SIMPLE', 'SING', 'SIR', 'SITUATION', 'SIX', 'SK', 'SKY', 'SLAP', 'SLEEP', 'SLEEPING', 'SLEEPINGWITH', 'SLEPT', 'SLO', 'SMILEY', 'SMS', 'SMSSERVICES', 'SN', 'SNAP', 'SNORING', 'SOFA', 'SOIREE', 'SOMEONE', 'SOMETHIN', 'SOMETHING', 'SONY', 'SOO', 'SOON', 'SOONLOTS', 'SORRY', 'SORTED', 'SOUND', 'SOUNDING', 'SOZ', 'SOZI', 'SP', 'SPAM', 'SPECIAL', 'SPECIALE', 'SPEEDCHAT', 'SPIDER', 'SPINOUT', 'SPJanuary', 'SPK', 'SPOOK', 'SPORT', 'SPORTSx', 'SPTV', 'SPUN', 'SS', 'ST', 'STAPATI', 'STAR', 'STARS', 'START', 'STATION', 'STIL', 'STILL', 'STOP', 'STOPBCM', 'STOPCS', 'STORE', 'STORES', 'STRIKE', 'STU', 'STUDENT', 'STUDENTFINANCIAL', 'STUDY', 'STUPID', 'STaY', 'SUBPOLY', 'SUE', 'SUM', 'SUMMER', 'SUMTHIN', 'SUNDAY', 'SUPER', 'SURE', 'SURPRISE', 'SUZY', 'SW', 'SWAN', 'SWAP', 'SWAT', 'SWEET', 'SWITCH', 'SYMPTOMS', 'SaLL', 'Sac', 'Sad', 'Saeed', 'Safe', 'Sagamu', 'Said', 'Salad', 'Salam', 'Salary', 'Sale', 'Sam', 'Sankatmochan', 'Sankranti', 'Santa', 'Sar', 'Sara', 'Sarcasm', 'Saristar', 'Sary', 'Sat', 'Saturday', 'SavaMob', 'Save', 'Saw', 'Say', 'Says', 'Scared', 'School', 'Schools', 'Science', 'Scoring', 'Scotch', 'Scotsman', 'Sday', 'Search', 'Second', 'Secret', 'Secured', 'See', 'Seem', 'Select', 'Sen', 'Send', 'Sender', 'Sending', 'Sends', 'Sent', 'Senthil', 'Sentiment', 'Sept', 'Serena', 'Serious', 'Service', 'Services', 'Set', 'Seventeen', 'Sex', 'Sexy', 'Sez', 'Sh', 'Shah', 'Shahjahan', 'Shakespeare', 'Shall', 'Shampain', 'Shanil', 'Shant', 'Shb', 'Sherawat', 'Shesil', 'Shhhhh', 'Shifad', 'Shijas', 'Shijutta', 'Shinco', 'Shiny', 'Shit', 'Shivratri', 'Shock', 'Shola', 'Shop', 'Shopping', 'Shoranur', 'Short', 'Shoul', 'Show', 'ShrAcomOrSglSuplt', 'Shuhui', 'Si', 'SiPix', 'Sian', 'Silent', 'Simple', 'Simply', 'Simpsons', 'Since', 'Sinco', 'Sindu', 'Single', 'Singles', 'Sir', 'Sirji', 'Sister', 'Sitting', 'Siva', 'SkilGme', 'SkillGame', 'Skip', 'Sky', 'Slaaaaave', 'Sleep', 'Sleeping', 'Sleepwell', 'Slept', 'Slide', 'Slow', 'Slowly', 'Small', 'SmartCall', 'Smile', 'Smiling', 'Smith', 'Sms', 'Snd', 'Sol', 'Sold', 'Solve', 'Somebody', 'Someone', 'Someonone', 'Something', 'Sometimes', 'Somewhr', 'Sonetimes', 'Sony', 'SonyEricsson', 'Soon', 'Sorry', 'Sort', 'Sos', 'Soul', 'Sounds', 'Soup', 'South', 'Space', 'Spain', 'Spanish', 'Speak', 'Speaking', 'Special', 'Spending', 'Spider', 'Spiral', 'Spl', 'SplashMobile', 'Splat', 'Spoke', 'Spook', 'Spoons', 'Spose', 'Sppok', 'Spring', 'Sprint', 'Sptv', 'Squeeeeeze', 'Squishy', 'Sry', 'St', 'Staff', 'StarWars', 'Start', 'Started', 'Starting', 'Starts', 'Statement', 'Stay', 'Staying', 'StdTxtRate', 'Stereophonics', 'StewartSize', 'Still', 'Stockport', 'Stop', 'StopTx', 'StopTxt', 'Storming', 'Stream', 'Street', 'Strip', 'Strokes', 'Strong', 'Student', 'Studying', 'Stuff', 'Stupid', 'Stylish', 'Stylist', 'Sub', 'Subs', 'Subscribe', 'Subscriber', 'Subscription', 'Subscriptn', 'Sugababes', 'Suganya', 'Sugar', 'Suite', 'Sullivan', 'Suman', 'Summer', 'Summers', 'Sun', 'Sunday', 'Sunscreen', 'Sunshine', 'Sup', 'Super', 'Superb', 'Suprman', 'Sure', 'Surely', 'Surly', 'Sux', 'Swayze', 'Sweet', 'Sweetest', 'Sweetheart', 'Switch', 'Swtheart', 'Symbol', 'Sympathetic', 'Syria', 'TA', 'TAJ', 'TAKE', 'TALK', 'TALKBUT', 'TALKED', 'TALKIN', 'TALKING', 'TAMPA', 'TAROT', 'TASTS', 'TBS', 'TC', 'TCR', 'TCs', 'TEL', 'TELL', 'TELLMISS', 'TERMINATED', 'TEX', 'TEXD', 'TEXT', 'TEXTBUDDY', 'TEXTCOMP', 'TEXTPOD', 'TEXTS', 'TG', 'TH', 'THANKS', 'THANX', 'THASA', 'THATMUM', 'THEACUSATIONS', 'THECD', 'THEMOB', 'THEW', 'THING', 'THINK', 'THNQ', 'THO', 'TIME', 'TISSCO', 'TITLE', 'TOBED', 'TOCALL', 'TODAY', 'TOME', 'TOMORROW', 'TOMORW', 'TONE', 'TONES', 'TONEXS', 'TONIGHT', 'TONITE', 'TOOL', 'TOP', 'TOPLAY', 'TOTAL', 'TOTALLY', 'TOWN', 'TR', 'TROUBLE', 'TRUBLE', 'TRUE', 'TRY', 'TS', 'TULIP', 'TV', 'TWILIGHT', 'TX', 'TXT', 'TXTAUCTION', 'TXTstar', 'Ta', 'TaKe', 'Taka', 'Take', 'Takecare', 'Takin', 'Talk', 'Tata', 'Tayseer', 'Tb', 'Tea', 'Teach', 'Teacher', 'Teachers', 'Team', 'Tear', 'Tears', 'Tease', 'Tee', 'Tel', 'Telephonic', 'Teletext', 'Tell', 'Ten', 'Tenants', 'Tenerife', 'Tension', 'Teresa', 'Terms', 'Termsapply', 'Terror', 'Terry', 'Tessy', 'Test', 'Text', 'TextOperator', 'Texting', 'Thank', 'Thanks', 'Thanku', 'Thankyou', 'Thanx', 'Thats', 'TheDailyDraw', 'TheMob', 'Theoretically', 'Theory', 'Theyre', 'Thgt', 'Thing', 'Things', 'Think', 'Thinkin', 'Thinking', 'Thinks', 'Thk', 'Thnx', 'Tho', 'Though', 'Thought', 'Thout', 'Thts', 'Thurs', 'Thursday', 'Thx', 'Thy', 'Tick', 'Tickets', 'Tiger', 'Till', 'Tim', 'Time', 'Tired', 'Tis', 'Titles', 'Tiwary', 'Tmorrow', 'Tmr', 'Tmrw', 'TnC', 'TnCs', 'Toa', 'Today', 'Todays', 'Toledo', 'Toll', 'Tom', 'Tomarrow', 'Tomorrow', 'Tone', 'Tones', 'Tonight', 'Took', 'Tooth', 'Top', 'Total', 'Touch', 'Tour', 'Toxic', 'Trackmarque', 'Traditions', 'Traffic', 'Transaction', 'Trav', 'Travel', 'Treat', 'Triple', 'True', 'Truro', 'Trust', 'Truth', 'Try', 'Trying', 'Ts', 'TsCs', 'TsandCs', 'Tsunami', 'Tsunamis', 'Ttyl', 'Tues', 'Tuesday', 'Tulsi', 'Tunde', 'Tunji', 'Turns', 'Twelve', 'Twiggs', 'Twinks', 'Twittering', 'Two', 'Txt', 'TxtNO', 'Txting', 'Txts', 'Tyler', 'Tyrone', 'U', 'UAWAKE', 'UIN', 'UK', 'UKP', 'UKs', 'UNBELIEVABLE', 'UNDERSTaND', 'UNI', 'UNICEF', 'UNLIMITED', 'UPDAT', 'UR', 'URAWINNER', 'URE', 'URFEELING', 'URGENT', 'URGOIN', 'URGRAN', 'URL', 'URN', 'URSELF', 'US', 'USA', 'USED', 'USER', 'UZ', 'Ubi', 'Ugadi', 'Ugh', 'Uh', 'Uhhhhrmm', 'Ujhhhhhhh', 'Uks', 'Ultimate', 'Ultimately', 'Umma', 'Ummma', 'Ummmmmaah', 'UnSub', 'Unbreakable', 'Uncle', 'Understand', 'Unfortunately', 'Uni', 'United', 'University', 'Unkempt', 'Unless', 'Unlike', 'Unlimited', 'Unni', 'Unsecured', 'Unsub', 'Unsubscribe', 'Untamed', 'Upd', 'Update', 'UpgrdCentre', 'Ups', 'Uptown', 'Ur', 'Urgent', 'Urgh', 'Us', 'Use', 'Usf', 'Usher', 'Usmle', 'Usually', 'Utele', 'Uve', 'V', 'VALENTINE', 'VALENTINES', 'VALUED', 'VAT', 'VCo', 'VIA', 'VIDEO', 'VILLA', 'VIOLENCE', 'VIOLET', 'VIP', 'VIVEKANAND', 'VPOD', 'VU', 'Valentine', 'Valentines', 'Valid', 'Values', 'Vatian', 'Vegas', 'Velly', 'Velusamy', 'Verify', 'Vettam', 'ViVa', 'Video', 'Videophones', 'Videos', 'Vijay', 'Vikky', 'Village', 'Virgin', 'Voda', 'Vodafone', 'Vodka', 'Voila', 'Vote', 'Voucher', 'Vouchers', 'Vry', 'W', 'WA', 'WAIT', 'WAITING', 'WALES', 'WANNA', 'WANNATELL', 'WANT', 'WAP', 'WARD', 'WATERSHD', 'WAY', 'WB', 'WC', 'WEDLUNCH', 'WEEK', 'WELL', 'WELLDA', 'WEN', 'WENT', 'WENWECAN', 'WEREBORED', 'WERETHE', 'WHASSUP', 'WHITE', 'WHORE', 'WID', 'WIFE', 'WILD', 'WIN', 'WINNER', 'WISH', 'WISHING', 'WITHOUT', 'WIV', 'WK', 'WKEND', 'WKENT', 'WOKE', 'WOMAN', 'WOMEN', 'WONT', 'WORDS', 'WORK', 'WORLD', 'WORRIED', 'WORRY', 'WOT', 'WOTU', 'WOULD', 'WOW', 'WP', 'WQ', 'WR', 'WRC', 'WRK', 'WRKIN', 'WRLD', 'WRONG', 'WS', 'WT', 'WTF', 'WU', 'WV', 'WWW', 'WX', 'Wa', 'Waaaat', 'Wah', 'Wahleykkum', 'Wait', 'Waiting', 'Wake', 'Walk', 'Wan', 'Wana', 'Wanna', 'Want', 'Wanting', 'Waqt', 'Warm', 'Warner', 'Waste', 'Wasted', 'Wat', 'Watch', 'Watching', 'Water', 'Wating', 'Watr', 'Wats', 'Waves', 'WeBeBurnin', 'WeLL', 'Webpage', 'Wed', 'WeddingFriend', 'Wednesday', 'Weekly', 'Weightloss', 'Weiyi', 'Welcome', 'Well', 'Welp', 'Wen', 'Wendy', 'Went', 'Westlife', 'Wet', 'Wewa', 'Whatever', 'Whats', 'Whatsup', 'Whenevr', 'Whens', 'Wherevr', 'Wherre', 'Whos', 'Wicklow', 'Wif', 'Wife', 'Wil', 'Win', 'Winaweek', 'Winawk', 'Wine', 'Wings', 'Winner', 'WinnersClub', 'Winning', 'Wins', 'Wipe', 'Wire', 'Wish', 'Wishing', 'Wk', 'Wkly', 'Wld', 'Wn', 'Wnevr', 'Woke', 'Woman', 'Wondering', 'Wont', 'Woo', 'Woodland', 'Woods', 'Woohoo', 'Words', 'Work', 'Working', 'World', 'Worth', 'Wot', 'Wotz', 'Would', 'Wow', 'Wright', 'Wrong', 'Wtf', 'Wud', 'Wuld', 'Wun', 'Wylie', 'X', 'XCHAT', 'XCLUSIVE', 'XE', 'XH', 'XMAS', 'XN', 'XX', 'XXUK', 'XXX', 'XXXMobileMovieClub', 'XXXX', 'XXXXX', 'XXXXXX', 'XXXXXXXXX', 'XY', 'Xavier', 'Xmas', 'XoXo', 'Xuhui', 'Xx', 'XxX', 'Xy', 'YA', 'YEAH', 'YEAR', 'YEARS', 'YEH', 'YES', 'YEST', 'YESTERDAY', 'YET', 'YF', 'YHL', 'YM', 'YMCA', 'YO', 'YOR', 'YOURJOB', 'YRS', 'YT', 'Ya', 'Yahoo', 'Yalru', 'Yar', 'Yavnt', 'Yaxx', 'Yaxxx', 'Yay', 'Yeah', 'Year', 'Years', 'Yeesh', 'Yeh', 'Yellow', 'Yelow', 'Yen', 'Yep', 'Yes', 'Yest', 'Yesterday', 'Yet', 'Yetunde', 'Yo', 'Yogasana', 'Youi', 'Yoyyooo', 'Yummmm', 'Yummy', 'Yun', 'Yunny', 'Yup', 'Yupz', 'Z', 'ZF', 'ZOE', 'ZOUK', 'ZS', 'Zaher', 'Zebra', 'Zindgi', 'Zogtorius', 'aa', 'aathi', 'abdomen', 'abel', 'abi', 'ability', 'abj', 'able', 'abnormally', 'abroad', 'absence', 'absolutely', 'absolutly', 'abstract', 'abt', 'aburo', 'abuse', 'abusers', 'ac', 'academic', 'acc', 'accent', 'accenture', 'accept', 'access', 'accessible', 'accidant', 'accident', 'accidentally', 'accommodation', 'accomodate', 'accomodations', 'accordin', 'accordingly', 'account', 'accounting', 'accumulation', 'achan', 'ache', 'achieve', 'acid', 'acknowledgement', 'across', 'act', 'acted', 'actin', 'acting', 'action', 'activ', 'activate', 'activities', 'actor', 'actual', 'actually', 'ad', 'add', 'added', 'addicted', 'addie', 'adding', 'address', 'adds', 'adewale', 'adi', 'adjustable', 'admin', 'administrator', 'admirer', 'admission', 'admit', 'adore', 'adoring', 'adress', 'ads', 'adsense', 'adult', 'adults', 'advance', 'adventure', 'adventuring', 'advice', 'advise', 'advising', 'advisors', 'aeroplane', 'affair', 'affairs', 'affection', 'affectionate', 'affidavit', 'afford', 'afghanistan', 'afraid', 'africa', 'african', 'aft', 'afternon', 'afternoon', 'afterwards', 'aftr', 'agalla', 'age', 'agency', 'agent', 'agents', 'ages', 'agidhane', 'aging', 'ago', 'agree', 'ah', 'aha', 'ahead', 'ahold', 'aid', 'aids', 'aight', 'aint', 'air', 'airport', 'airtel', 'ajith', 'ak', 'aka', 'al', 'albi', 'album', 'alcohol', 'alert', 'alerts', 'alex', 'alfie', 'algebra', 'algorithms', 'ali', 'alian', 'alibi', 'alive', 'allah', 'allalo', 'allday', 'alle', 'allow', 'allowed', 'allows', 'almost', 'alone', 'along', 'alot', 'already', 'alright', 'alrite', 'also', 'alter', 'alternative', 'although', 'alto', 'aluable', 'alwa', 'always', 'alwys', 'amazing', 'ambitious', 'american', 'amigos', 'amk', 'amla', 'amma', 'ammae', 'ammo', 'amnow', 'among', 'amongst', 'amore', 'amount', 'amp', 'amplikater', 'ams', 'amt', 'amused', 'ana', 'analysis', 'anand', 'anderson', 'andre', 'andres', 'andrews', 'andros', 'angels', 'angry', 'animal', 'animation', 'anjie', 'anjola', 'anna', 'annie', 'anniversary', 'annoncement', 'announced', 'announcement', 'annoyin', 'annoying', 'anonymous', 'anot', 'another', 'ans', 'ansr', 'answer', 'answered', 'answerin', 'answering', 'answers', 'answr', 'antha', 'anthony', 'anti', 'antibiotic', 'anybody', 'anyhow', 'anymore', 'anyone', 'anyones', 'anyplaces', 'anythiing', 'anythin', 'anything', 'anythingtomorrow', 'anytime', 'anyway', 'anyways', 'anywhere', 'apart', 'apartment', 'apes', 'apeshit', 'aphex', 'apo', 'apologetic', 'apologise', 'apologize', 'apology', 'app', 'apparently', 'appeal', 'appear', 'appendix', 'applebees', 'apples', 'application', 'apply', 'applyed', 'applying', 'appointment', 'appointments', 'appreciate', 'appreciated', 'approaches', 'approaching', 'appropriate', 'approve', 'approved', 'approx', 'apps', 'appt', 'april', 'aproach', 'apt', 'aptitude', 'aquarius', 'ar', 'arab', 'archive', 'ard', 'area', 'arent', 'arestaurant', 'aretaking', 'areyouunique', 'argentina', 'argh', 'argue', 'arguing', 'argument', 'arguments', 'arise', 'arises', 'arithmetic', 'arm', 'armand', 'armenia', 'arms', 'arng', 'arnt', 'around', 'aroundn', 'arrange', 'arranging', 'arrested', 'arrival', 'arrive', 'arrived', 'arsenal', 'art', 'artists', 'arts', 'arty', 'arun', 'asa', 'asap', 'asda', 'ashes', 'ashley', 'ashwini', 'asia', 'ask', 'askd', 'asked', 'askin', 'asking', 'asks', 'asleep', 'asp', 'aspects', 'ass', 'assessment', 'asshole', 'assistance', 'associate', 'asssssholeeee', 'assume', 'assumed', 'asthma', 'astne', 'astoundingly', 'astrology', 'asus', 'atHome', 'ate', 'atlanta', 'atlast', 'atm', 'atrocious', 'attach', 'attached', 'attack', 'attempt', 'atten', 'attend', 'attended', 'attending', 'attention', 'attitude', 'attraction', 'attracts', 'attributed', 'atural', 'auction', 'audiitions', 'audition', 'audrey', 'aunt', 'aunties', 'aunts', 'aunty', 'aust', 'authorise', 'auto', 'autocorrect', 'av', 'availa', 'available', 'avalarr', 'avatar', 'avble', 'ave', 'avent', 'avenue', 'avin', 'avo', 'avoid', 'avoiding', 'avoids', 'await', 'awaiting', 'awake', 'award', 'awarded', 'away', 'awesome', 'awkward', 'ax', 'ayn', 'ayo', 'b', 'ba', 'babe', 'babes', 'babies', 'baby', 'babyjontet', 'babysit', 'babysitting', 'bac', 'back', 'backdoor', 'bad', 'badass', 'badly', 'bag', 'bags', 'baig', 'bak', 'bakra', 'bakrid', 'balance', 'baller', 'balloon', 'bambling', 'band', 'bandages', 'bang', 'bangb', 'bank', 'banks', 'banned', 'banter', 'bao', 'bar', 'barcelona', 'bare', 'barely', 'bari', 'barolla', 'barred', 'barrel', 'barring', 'bars', 'base', 'based', 'bash', 'basic', 'basically', 'basket', 'basketball', 'basq', 'bat', 'batch', 'batchlor', 'bath', 'bathe', 'bathing', 'bathroom', 'batsman', 'batt', 'battery', 'battle', 'bawling', 'bay', 'bb', 'bc', 'bcaz', 'bck', 'bcoz', 'bcs', 'bcum', 'bcums', 'bcz', 'bday', 'beach', 'beads', 'bear', 'bears', 'beatings', 'beauties', 'beautiful', 'beauty', 'bec', 'becausethey', 'become', 'becoz', 'becz', 'bed', 'bedbut', 'bedreal', 'bedrm', 'bedroom', 'beeen', 'beehoon', 'beendropping', 'beer', 'beers', 'befor', 'beforehand', 'beg', 'beggar', 'begging', 'begin', 'begins', 'begun', 'behalf', 'behave', 'behind', 'bein', 'believe', 'belive', 'bell', 'bellearlier', 'belligerent', 'belly', 'belong', 'belongs', 'belovd', 'beloved', 'belt', 'ben', 'bend', 'beneath', 'beneficiary', 'benefits', 'beside', 'best', 'bet', 'beta', 'betta', 'better', 'bettr', 'beverage', 'bevies', 'beyond', 'bf', 'bffs', 'bfore', 'bhaji', 'bhaskar', 'bhayandar', 'bian', 'biatch', 'bid', 'bids', 'big', 'bigger', 'biggest', 'bike', 'bill', 'billed', 'billion', 'bills', 'billy', 'bilo', 'bimbo', 'bin', 'biola', 'bird', 'birds', 'birla', 'birth', 'birthdate', 'birthday', 'bishan', 'bit', 'bitch', 'bitching', 'bite', 'bites', 'biz', 'bk', 'black', 'blackberry', 'blah', 'blake', 'blame', 'blank', 'blanked', 'blanket', 'blankets', 'blastin', 'bleak', 'bleh', 'bless', 'blessed', 'blessing', 'blessings', 'blimey', 'block', 'blocked', 'blog', 'blogging', 'blogspot', 'bloke', 'blonde', 'bloo', 'blood', 'bloody', 'bloomberg', 'blow', 'blowing', 'blown', 'blue', 'bluff', 'blur', 'bluray', 'board', 'boat', 'body', 'boggy', 'bold', 'bollox', 'bomb', 'bone', 'bong', 'bonus', 'boo', 'boobs', 'book', 'booked', 'bookedthe', 'booking', 'books', 'bookshelf', 'boost', 'booty', 'bootydelious', 'borderline', 'bored', 'borin', 'boring', 'born', 'borrow', 'boss', 'boston', 'bot', 'bother', 'bothering', 'bottle', 'bottom', 'bought', 'boundaries', 'bout', 'bowa', 'bowl', 'bowls', 'box', 'boy', 'boye', 'boyfriend', 'boys', 'boytoy', 'bpo', 'brah', 'brain', 'braindance', 'brains', 'brainy', 'brand', 'bras', 'brats', 'braved', 'bread', 'breadstick', 'break', 'breakfast', 'breaking', 'breaks', 'breath', 'breathe', 'breather', 'breathing', 'breeze', 'breezy', 'bribe', 'bridal', 'bridge', 'bridgwater', 'brief', 'bright', 'brighten', 'brilliant', 'brilliantly', 'brin', 'bring', 'bringing', 'brings', 'brisk', 'brison', 'bro', 'broad', 'broke', 'broken', 'brolly', 'bros', 'broth', 'brothas', 'brother', 'brothers', 'brought', 'brownie', 'brownies', 'browse', 'browser', 'browsin', 'bruce', 'brum', 'bruv', 'bsn', 'bsnl', 'bt', 'btw', 'btwn', 'bubbletext', 'bucks', 'bud', 'buddys', 'budget', 'buen', 'buff', 'buffet', 'bugis', 'build', 'building', 'built', 'bulbs', 'bullshit', 'bunch', 'bundle', 'bunkers', 'buns', 'burden', 'burger', 'burgundy', 'burial', 'burn', 'burning', 'burns', 'burnt', 'burrito', 'bus', 'buses', 'busetop', 'business', 'busty', 'busy', 'butt', 'butting', 'buttons', 'buy', 'buyer', 'buyers', 'buying', 'buzy', 'buzz', 'bw', 'bx', 'bye', 'c', 'cThen', 'cabin', 'cafe', 'cage', 'cake', 'cakes', 'cal', 'calculated', 'calculation', 'cali', 'calicut', 'california', 'call', 'callback', 'callcost', 'calld', 'called', 'caller', 'callertune', 'callin', 'calling', 'callon', 'calls', 'calm', 'cam', 'camcorder', 'came', 'camera', 'camp', 'campus', 'camry', 'canada', 'canal', 'cancel', 'canceled', 'cancelled', 'cancer', 'canlove', 'cann', 'canname', 'cannot', 'cant', 'cantdo', 'canteen', 'capacity', 'capital', 'cappuccino', 'caps', 'captain', 'captaining', 'car', 'card', 'cardiff', 'cardin', 'cards', 'care', 'careabout', 'cared', 'career', 'careers', 'careful', 'carefully', 'careless', 'cares', 'caring', 'carlin', 'carlos', 'carly', 'carolina', 'caroline', 'carpark', 'carry', 'carryin', 'cars', 'cartons', 'cartoon', 'case', 'cash', 'cashbin', 'cashed', 'cashto', 'casing', 'cast', 'casting', 'castor', 'casualty', 'cat', 'catch', 'catches', 'catching', 'categories', 'caught', 'cause', 'causes', 'causing', 'cave', 'caveboy', 'cbe', 'cc', 'ccna', 'cd', 'cedar', 'ceiling', 'celeb', 'celebrate', 'celebration', 'cell', 'census', 'center', 'centre', 'century', 'cereals', 'certainly', 'certificate', 'cfca', 'ch', 'cha', 'chad', 'chain', 'challenge', 'challenging', 'champ', 'champlaxigating', 'champneys', 'chance', 'chances', 'change', 'changed', 'changes', 'changing', 'channel', 'chapel', 'chaps', 'chapter', 'character', 'characters', 'charge', 'charged', 'charges', 'charity', 'charles', 'charlie', 'charming', 'chart', 'charts', 'chase', 'chasing', 'chastity', 'chat', 'chatter', 'chatting', 'cheap', 'cheaper', 'cheat', 'cheating', 'chechi', 'check', 'checkboxes', 'checked', 'checking', 'checkup', 'cheek', 'cheers', 'cheery', 'cheese', 'cheesy', 'cheetos', 'chennai', 'cheque', 'cherish', 'cherthala', 'chess', 'chest', 'chex', 'cheyyamo', 'chez', 'chg', 'chgs', 'chic', 'chick', 'chicken', 'chickened', 'chief', 'chik', 'chikku', 'child', 'childish', 'childporn', 'children', 'chile', 'chill', 'chillaxin', 'chillin', 'china', 'chinchillas', 'chinese', 'chinky', 'chinnu', 'chiong', 'chip', 'chocolate', 'choice', 'choices', 'choose', 'choosing', 'chop', 'chords', 'chores', 'chosen', 'chrgd', 'christ', 'christmas', 'christmassy', 'chuck', 'chuckin', 'church', 'cine', 'cinema', 'citizen', 'city', 'citylink', 'cktz', 'claim', 'claimcode', 'claims', 'claire', 'clarification', 'clarify', 'clark', 'clas', 'clash', 'class', 'classes', 'classmates', 'claypot', 'cld', 'clean', 'cleaning', 'clear', 'cleared', 'clearer', 'clearing', 'clearly', 'clever', 'click', 'cliff', 'cliffs', 'clip', 'clock', 'clocks', 'close', 'closeby', 'closed', 'closer', 'closes', 'closingdate', 'cloth', 'clothes', 'cloud', 'clover', 'club', 'clubmoby', 'clubzed', 'clue', 'cm', 'cme', 'cmon', 'cn', 'cnl', 'cnupdates', 'co', 'coach', 'coast', 'coat', 'coaxing', 'coccooning', 'cochin', 'cock', 'cocksuckers', 'coco', 'code', 'coffee', 'coherently', 'coimbatore', 'coin', 'coincidence', 'coins', 'colany', 'cold', 'collages', 'collapsed', 'collect', 'collected', 'collecting', 'collection', 'colleg', 'college', 'color', 'colour', 'colourful', 'colours', 'com', 'comb', 'combination', 'combine', 'come', 'comedy', 'comes', 'comfey', 'comfort', 'comin', 'coming', 'comingdown', 'command', 'comment', 'commercial', 'commit', 'common', 'community', 'como', 'comp', 'companies', 'company', 'compare', 'compensation', 'competition', 'complacent', 'complain', 'complaining', 'complaint', 'complementary', 'complete', 'completed', 'completely', 'completes', 'completing', 'complexities', 'complimentary', 'comprehensive', 'compromised', 'compulsory', 'computational', 'computer', 'computerless', 'computers', 'comuk', 'conacted', 'concentrate', 'concentrating', 'concentration', 'concern', 'concert', 'conclusion', 'condition', 'conditions', 'conducts', 'conected', 'conference', 'confidence', 'configure', 'confirm', 'confirmd', 'confirmed', 'conform', 'confused', 'confuses', 'congrats', 'congratulation', 'connect', 'connected', 'connection', 'connections', 'cons', 'consensus', 'consent', 'conserve', 'consider', 'considering', 'consistently', 'console', 'constant', 'constantly', 'contact', 'contacted', 'contacts', 'contains', 'content', 'contented', 'contents', 'continent', 'continue', 'continued', 'contract', 'contribute', 'control', 'convenience', 'conversations', 'converted', 'converter', 'convey', 'conveying', 'convince', 'convincing', 'cook', 'cooked', 'cookies', 'cooking', 'cool', 'cooped', 'cooperative', 'copied', 'copies', 'coping', 'cops', 'copy', 'corect', 'cornwall', 'corporation', 'corrct', 'correct', 'correction', 'correctly', 'corrupt', 'corvettes', 'cos', 'cosign', 'cost', 'costing', 'costs', 'costume', 'costumes', 'couch', 'cough', 'coughing', 'could', 'coulda', 'count', 'countin', 'country', 'counts', 'coupla', 'couple', 'courage', 'course', 'court', 'courtroom', 'cousin', 'cover', 'coveragd', 'covers', 'coz', 'cozy', 'cr', 'crab', 'crammed', 'cramps', 'crap', 'crash', 'crashed', 'crashing', 'crave', 'craving', 'craziest', 'crazy', 'crckt', 'cream', 'created', 'creative', 'creativity', 'credit', 'credited', 'credits', 'creep', 'creepy', 'cres', 'cricket', 'cricketer', 'crickiting', 'cried', 'crisis', 'crore', 'cross', 'crossing', 'crowd', 'crucial', 'cruise', 'cruisin', 'crushes', 'cry', 'csBCM', 'cst', 'cstore', 'ctla', 'cts', 'cuck', 'cud', 'cuddle', 'cuddled', 'cuddling', 'cudnt', 'cultures', 'cum', 'cumin', 'cumming', 'cup', 'cupboard', 'cuppa', 'curfew', 'curious', 'current', 'currently', 'curry', 'curtsey', 'cust', 'custcare', 'custom', 'customer', 'customers', 'customersqueries', 'cut', 'cute', 'cutest', 'cutie', 'cutting', 'cuz', 'cya', 'cyclists', 'cysts', 'da', 'dabbles', 'dad', 'daddy', 'daily', 'damn', 'dancce', 'dance', 'dancin', 'dancing', 'dane', 'dang', 'danger', 'dangerous', 'dao', 'dare', 'dark', 'darker', 'darkest', 'darkness', 'darlin', 'darling', 'darlings', 'darren', 'dartboard', 'dat', 'data', 'date', 'dates', 'dating', 'dats', 'dawns', 'day', 'days', 'daytime', 'daywith', 'dbuk', 'de', 'dead', 'deal', 'dealer', 'dealing', 'deals', 'dear', 'dearer', 'dearly', 'death', 'debating', 'dec', 'decades', 'decent', 'decide', 'decided', 'deciding', 'decimal', 'decision', 'decisions', 'deck', 'decking', 'decorating', 'dedicate', 'dedicated', 'deduct', 'deep', 'deepak', 'deepest', 'deer', 'def', 'defeat', 'defer', 'deficient', 'definite', 'definitely', 'definitly', 'degree', 'degrees', 'dehydrated', 'dehydration', 'del', 'delTOMORROW', 'delay', 'delayed', 'delete', 'deleted', 'delicious', 'deliver', 'delivered', 'delivery', 'deluxe', 'dem', 'demand', 'den', 'dengra', 'denis', 'dent', 'dental', 'dentist', 'dentists', 'deny', 'denying', 'department', 'dependents', 'depends', 'deposit', 'deposited', 'depressed', 'depression', 'dept', 'der', 'derek', 'describe', 'description', 'desert', 'deserve', 'desk', 'desparate', 'desparately', 'desperate', 'despite', 'dessert', 'destination', 'destiny', 'detail', 'detailed', 'details', 'determine', 'deus', 'develop', 'developed', 'developer', 'device', 'devouring', 'dey', 'dha', 'dhanush', 'dhina', 'dhoni', 'dhorte', 'di', 'dial', 'dialling', 'dialogue', 'diamond', 'diamonds', 'diapers', 'dice', 'dick', 'dict', 'dictionary', 'diddy', 'didnt', 'didntgive', 'die', 'died', 'diesel', 'diet', 'dieting', 'diff', 'differ', 'difference', 'differences', 'different', 'difficult', 'difficulties', 'dificult', 'digi', 'digital', 'digits', 'dignity', 'dime', 'dimension', 'din', 'dine', 'dined', 'dinero', 'ding', 'dining', 'dinner', 'dint', 'dippeditinaDEW', 'direct', 'directly', 'director', 'directors', 'dirt', 'dirtiest', 'dirty', 'dis', 'disagreeable', 'disappeared', 'disappointment', 'disaster', 'disasters', 'disastrous', 'disc', 'disclose', 'disconnected', 'discount', 'discreet', 'discuss', 'discussed', 'disk', 'dislikes', 'dismay', 'dismissial', 'display', 'distance', 'distract', 'disturb', 'disturbance', 'disturbing', 'divert', 'division', 'divorce', 'diwali', 'dl', 'dled', 'dnot', 'dnt', 'dob', 'dobby', 'doc', 'dock', 'docs', 'doctor', 'doctors', 'documents', 'dodda', 'dodgey', 'doesnt', 'dog', 'dogg', 'doggin', 'dogging', 'doggy', 'dogs', 'dogwood', 'doin', 'doinat', 'doit', 'doke', 'dokey', 'dollar', 'dollars', 'domain', 'donate', 'done', 'donno', 'dont', 'donyt', 'dooms', 'door', 'doors', 'dorm', 'dose', 'dosomething', 'dot', 'double', 'doubles', 'doubt', 'doug', 'dough', 'download', 'downloaded', 'downloads', 'downs', 'downstem', 'dr', 'drama', 'dramastorm', 'dramatic', 'drastic', 'draw', 'draws', 'dreading', 'dream', 'dreams', 'dress', 'dressed', 'dresser', 'drink', 'drinkin', 'drinking', 'drinks', 'drivby', 'drive', 'driver', 'drivin', 'driving', 'drizzling', 'drms', 'drop', 'dropped', 'drops', 'drove', 'drpd', 'drug', 'drugdealer', 'drugs', 'drum', 'drunk', 'drunkard', 'drunken', 'drvgsTo', 'dry', 'dryer', 'dsn', 'dt', 'dual', 'dub', 'dubsack', 'ducking', 'dude', 'dudes', 'dudette', 'due', 'duffer', 'dull', 'dumb', 'dump', 'dun', 'dungerees', 'dunno', 'duo', 'durban', 'durham', 'dusk', 'dust', 'duvet', 'dvg', 'dwn', 'dying', 'dysentry', 'e', 'ea', 'ear', 'earlier', 'earliest', 'early', 'earn', 'earning', 'ears', 'earth', 'easier', 'easiest', 'easily', 'east', 'easter', 'easy', 'eat', 'eaten', 'eatin', 'eating', 'ebay', 'ec', 'ecef', 'ecstacy', 'ecstasy', 'ed', 'edge', 'edhae', 'edition', 'edrunk', 'edu', 'education', 'educational', 'edukkukayee', 'edward', 'edwards', 'ee', 'eerie', 'eerulli', 'effect', 'effects', 'efficient', 'efreefone', 'eg', 'egg', 'eggs', 'ego', 'eh', 'eight', 'eighth', 'eightish', 'either', 'el', 'ela', 'elaborate', 'elaborating', 'elaine', 'elama', 'elaya', 'eldest', 'elections', 'electricity', 'elephant', 'elliot', 'else', 'elsewhere', 'em', 'email', 'emailed', 'embarassed', 'embarassing', 'embarrassed', 'embassy', 'emc', 'emergency', 'emerging', 'emigrated', 'employee', 'employer', 'empty', 'en', 'end', 'ended', 'ending', 'endless', 'endof', 'endowed', 'ends', 'enemies', 'enemy', 'energy', 'eng', 'engaged', 'engagement', 'engalnd', 'engin', 'england', 'english', 'enjoy', 'enjoyed', 'enjoying', 'enketa', 'ennal', 'enough', 'ente', 'enter', 'entered', 'enters', 'entertain', 'entertaining', 'entey', 'entire', 'entirely', 'entitled', 'entrepreneurs', 'entropication', 'entry', 'enuff', 'envelope', 'environment', 'envy', 'epi', 'eppolum', 'epsilon', 'equally', 'er', 'ere', 'ericson', 'ericsson', 'erode', 'erotic', 'error', 'errors', 'ertini', 'eruku', 'erupt', 'esaplanade', 'escalator', 'escape', 'ese', 'eshxxxxxxxxxxx', 'espe', 'especially', 'esplanade', 'essay', 'essential', 'establish', 'eta', 'etc', 'ethnicity', 'etlp', 'ettans', 'europe', 'eva', 'evaluation', 'evaporated', 'eve', 'eveB', 'even', 'evening', 'evenings', 'event', 'events', 'eventually', 'ever', 'every', 'everybody', 'everyboy', 'everyday', 'everyone', 'everyones', 'everyso', 'everything', 'everywhere', 'evey', 'eviction', 'evil', 'evn', 'evng', 'evo', 'evry', 'evrydy', 'ex', 'exact', 'exactly', 'exam', 'exams', 'excellent', 'except', 'exchanged', 'excited', 'exciting', 'excuse', 'excused', 'excuses', 'exe', 'executive', 'exercise', 'exeter', 'exhaust', 'exhausted', 'exhibition', 'exist', 'exit', 'exmpel', 'expect', 'expecting', 'expects', 'expensive', 'experience', 'experiencehttp', 'experiment', 'expert', 'expired', 'expiry', 'explain', 'explicit', 'explicitly', 'exposed', 'exposes', 'express', 'expression', 'expressoffer', 'ext', 'exterminator', 'extra', 'extract', 'ey', 'eye', 'eyes', 'f', 'fab', 'faber', 'face', 'facebook', 'facilities', 'fact', 'factory', 'facts', 'faded', 'faggot', 'faggy', 'faglord', 'failed', 'failing', 'failure', 'fainting', 'fair', 'faith', 'fake', 'fakeye', 'fal', 'falconerf', 'fall', 'fallen', 'falling', 'falls', 'fals', 'famamus', 'familiar', 'family', 'famous', 'fan', 'fancied', 'fancies', 'fancy', 'fans', 'fantasies', 'fantastic', 'fantasy', 'far', 'farm', 'farting', 'fassyole', 'fast', 'faster', 'fastest', 'fat', 'fated', 'father', 'fathima', 'fats', 'fatty', 'fault', 'fav', 'fave', 'favor', 'favorite', 'favour', 'favourite', 'fb', 'fear', 'feathery', 'features', 'feb', 'february', 'fed', 'fedex', 'feed', 'feel', 'feelin', 'feeling', 'feels', 'fees', 'feet', 'fell', 'fellow', 'felt', 'female', 'feng', 'festival', 'fetch', 'fetching', 'fever', 'ff', 'ffectionate', 'fgkslpo', 'fgkslpoPW', 'fidalfication', 'field', 'fiend', 'fifteen', 'fifth', 'fight', 'fighting', 'fightng', 'fights', 'figure', 'figures', 'figuring', 'fil', 'file', 'files', 'fill', 'filled', 'filling', 'fills', 'film', 'films', 'filthy', 'filthyguys', 'final', 'finalise', 'finally', 'finance', 'financial', 'find', 'finding', 'finds', 'fine', 'fingers', 'finish', 'finishd', 'finished', 'finishes', 'finishing', 'fink', 'finn', 'fire', 'fired', 'firefox', 'fireplace', 'fires', 'firmware', 'firsg', 'first', 'fish', 'fishhead', 'fishrman', 'fit', 'fiting', 'five', 'fix', 'fixd', 'fixed', 'fixedline', 'fixes', 'flag', 'flaked', 'flaky', 'flame', 'flash', 'flat', 'flatter', 'flavour', 'flea', 'fletcher', 'flew', 'flies', 'flight', 'flights', 'flim', 'flip', 'flippin', 'flirt', 'flirting', 'flirtparty', 'floating', 'flood', 'floor', 'floppy', 'florida', 'flow', 'flower', 'flowers', 'flowing', 'fluids', 'flurries', 'flute', 'fly', 'flying', 'flyng', 'fml', 'fne', 'fo', 'fold', 'folks', 'follow', 'followed', 'followin', 'following', 'follows', 'fond', 'fondly', 'fone', 'fones', 'food', 'fool', 'fooled', 'foot', 'football', 'footbl', 'footie', 'footprints', 'footy', 'force', 'forced', 'foregate', 'foreign', 'forever', 'forevr', 'forfeit', 'forget', 'forgets', 'forgive', 'forgiven', 'forgiveness', 'forgot', 'forgotten', 'forgt', 'form', 'formal', 'formally', 'format', 'formatting', 'forms', 'forth', 'fortune', 'forum', 'forums', 'forward', 'forwarded', 'forwarding', 'found', 'four', 'fourth', 'foward', 'fowler', 'fox', 'fps', 'fr', 'fraction', 'frank', 'frauds', 'freak', 'freaked', 'freaking', 'freaky', 'free', 'freedom', 'freefone', 'freek', 'freely', 'freezing', 'fren', 'french', 'frens', 'frequently', 'fret', 'fri', 'friday', 'fridays', 'fridge', 'fried', 'friend', 'friends', 'friendsare', 'friendship', 'friendships', 'fring', 'fringe', 'frm', 'frnd', 'frndZ', 'frnds', 'frndship', 'frndshp', 'frndsship', 'frnt', 'fro', 'frog', 'fromm', 'front', 'frontierville', 'frosty', 'fruit', 'frwd', 'frying', 'ft', 'fuck', 'fucked', 'fuckin', 'fucking', 'fucks', 'fuelled', 'fujitsu', 'ful', 'fulfil', 'full', 'fullonsms', 'fumbling', 'fun', 'function', 'functions', 'fund', 'fundamentals', 'funeral', 'funk', 'funky', 'funny', 'funs', 'furniture', 'fusion', 'future', 'fyi', 'g', 'gET', 'gOoD', 'ga', 'gain', 'gained', 'gal', 'galileo', 'gals', 'gamb', 'game', 'games', 'gandhipuram', 'ganesh', 'gang', 'gap', 'gaps', 'garage', 'garbage', 'garden', 'gari', 'garments', 'gas', 'gastroenteritis', 'gate', 'gauge', 'gautham', 'gauti', 'gave', 'gay', 'gayle', 'gays', 'gaytextbuddy', 'gbp', 'gd', 'gdeve', 'ge', 'gee', 'gei', 'gek', 'general', 'generally', 'genes', 'genius', 'gentle', 'gentleman', 'gently', 'genuine', 'genus', 'gep', 'ger', 'get', 'getiing', 'geting', 'gets', 'getsleep', 'getstop', 'gettin', 'getting', 'getzed', 'geva', 'gf', 'ghodbandar', 'gibbs', 'gibe', 'gift', 'gifted', 'giggle', 'gigolo', 'gimme', 'girl', 'girlfrnd', 'girlie', 'girls', 'gist', 'giv', 'give', 'given', 'gives', 'giving', 'glad', 'glands', 'glasgow', 'glass', 'glo', 'global', 'glorious', 'glory', 'gloucesterroad', 'gn', 'gnun', 'go', 'goal', 'goals', 'gobi', 'god', 'goes', 'goggles', 'goigng', 'goin', 'going', 'gold', 'golden', 'goldviking', 'gon', 'gona', 'gone', 'gong', 'gonna', 'gooD', 'good', 'goodies', 'goodmate', 'goodnight', 'goodnite', 'goods', 'google', 'gorgeous', 'gossip', 'got', 'gota', 'gotany', 'gotbabes', 'goten', 'goto', 'gotta', 'gotten', 'gotto', 'goverment', 'govt', 'gprs', 'gpu', 'gr', 'grab', 'grace', 'graduated', 'gram', 'grams', 'grand', 'grandfather', 'grandma', 'grandmas', 'granted', 'graphics', 'grasp', 'grateful', 'grave', 'gravy', 'gray', 'gre', 'great', 'greatest', 'greatly', 'greatness', 'greece', 'green', 'greet', 'greeting', 'greetings', 'grief', 'grinder', 'grins', 'grinule', 'grocers', 'grooved', 'groovy', 'groovying', 'ground', 'group', 'grow', 'growing', 'grown', 'grownup', 'grr', 'grumble', 'gt', 'gthr', 'gua', 'guarantee', 'guaranteed', 'gucci', 'gud', 'guess', 'guessed', 'guesses', 'guessing', 'guidance', 'guide', 'guides', 'guilty', 'guitar', 'guoyang', 'gut', 'guy', 'guys', 'gv', 'gving', 'gym', 'gymnastics', 'gynae', 'h', 'ha', 'habba', 'habit', 'haf', 'haha', 'hai', 'hail', 'hair', 'haircut', 'hairdressers', 'half', 'hall', 'halla', 'ham', 'hamper', 'hamster', 'hand', 'handed', 'handing', 'handle', 'hands', 'handset', 'handsome', 'handsomes', 'hang', 'hanger', 'hangin', 'hanging', 'hanks', 'hannaford', 'happen', 'happend', 'happened', 'happenin', 'happening', 'happens', 'happier', 'happiest', 'happily', 'happiness', 'happy', 'hard', 'hardcore', 'harder', 'hardly', 'harlem', 'harri', 'hasnt', 'hassling', 'hat', 'hate', 'haul', 'haunt', 'hav', 'hava', 'havent', 'havin', 'havn', 'hdd', 'head', 'headache', 'headin', 'heading', 'heads', 'headstart', 'heal', 'healthy', 'heap', 'hear', 'heard', 'hearin', 'hearing', 'heart', 'hearted', 'hearts', 'heat', 'heater', 'heaven', 'heavily', 'heavy', 'hectic', 'hee', 'held', 'helen', 'helens', 'hell', 'hella', 'hello', 'help', 'helpful', 'helping', 'helps', 'heltini', 'hen', 'hence', 'hep', 'heron', 'hes', 'hesitant', 'hesitate', 'hesitation', 'hex', 'hey', 'hi', 'hidden', 'hide', 'hides', 'hiding', 'high', 'highest', 'hilarious', 'hill', 'hills', 'hillsborough', 'himso', 'hint', 'hip', 'hiphop', 'hire', 'history', 'hit', 'hitman', 'hits', 'hitter', 'hittng', 'hiya', 'hlday', 'hme', 'hmm', 'hmmm', 'hmmross', 'ho', 'hockey', 'hogidhe', 'hol', 'hold', 'holder', 'holding', 'hole', 'holiday', 'holla', 'hollalater', 'hols', 'holy', 'home', 'hon', 'honest', 'honesty', 'honey', 'honeymoon', 'hont', 'hoo', 'hooch', 'hook', 'hooked', 'hoops', 'hop', 'hope', 'hopeSo', 'hoped', 'hopeful', 'hopefully', 'hopeing', 'hopes', 'hoping', 'hor', 'horniest', 'horny', 'horrible', 'horse', 'hos', 'hospital', 'hospitals', 'hostel', 'hostile', 'hot', 'hotel', 'hotels', 'hotmail', 'hour', 'hourish', 'hours', 'house', 'houseful', 'housewives', 'housework', 'housing', 'howard', 'however', 'hows', 'hp', 'hppnss', 'hr', 'hrs', 'hsbc', 'html', 'http', 'huai', 'hubby', 'hudgi', 'hug', 'huge', 'hugging', 'hugh', 'huh', 'huiming', 'hum', 'humanities', 'humans', 'hun', 'hundred', 'hundreds', 'hungover', 'hungry', 'hunks', 'hunny', 'hunt', 'hunting', 'hurricanes', 'hurried', 'hurry', 'hurt', 'hurting', 'hurts', 'husband', 'hussey', 'hustle', 'hut', 'hv', 'hvae', 'hw', 'hyde', 'hypertension', 'hypotheticalhuagauahahuagahyuhagga', 'iPOD', 'iPod', 'iZ', 'iam', 'ibm', 'ibored', 'ibuprofens', 'ic', 'iccha', 'ice', 'icicibank', 'icky', 'icmb', 'icon', 'id', 'idc', 'idea', 'ideal', 'ideas', 'identification', 'idiot', 'idk', 'idu', 'ie', 'iff', 'ignorant', 'ignore', 'ignoring', 'ihave', 'ikea', 'il', 'ill', 'illness', 'im', 'image', 'images', 'imagination', 'imagine', 'img', 'imma', 'immed', 'immediately', 'immunisation', 'imp', 'impatient', 'impede', 'implications', 'important', 'importantly', 'imposed', 'impossible', 'imposter', 'impress', 'impressed', 'impression', 'impressively', 'improve', 'improved', 'inc', 'inch', 'inches', 'incident', 'include', 'includes', 'including', 'inclusive', 'incomm', 'inconsiderate', 'inconvenient', 'increase', 'increments', 'inde', 'indeed', 'independently', 'index', 'india', 'indian', 'indicate', 'individual', 'infections', 'infernal', 'influx', 'info', 'inform', 'information', 'informed', 'infra', 'infront', 'ing', 'ingredients', 'initiate', 'inlude', 'inmind', 'inner', 'innings', 'innocent', 'innu', 'inperialmusic', 'inpersonation', 'insects', 'insha', 'inshah', 'inside', 'inspection', 'inst', 'install', 'installation', 'installing', 'instantly', 'instead', 'instituitions', 'instructions', 'insurance', 'intelligent', 'intend', 'intention', 'intentions', 'interest', 'interested', 'interesting', 'interfued', 'internal', 'internet', 'interview', 'interviews', 'intha', 'intrepid', 'intro', 'intrude', 'invention', 'invest', 'investigate', 'invitation', 'invite', 'invited', 'inviting', 'invnted', 'invoices', 'involve', 'involved', 'iouri', 'ip', 'ipad', 'ipaditan', 'ipads', 'iphone', 'ipod', 'irene', 'iron', 'ironing', 'irritated', 'irritating', 'irritation', 'irulinae', 'isComing', 'iscoming', 'ish', 'ishtamayoo', 'island', 'islands', 'isnt', 'issue', 'issues', 'italian', 'itcould', 'items', 'iter', 'ithink', 'itried', 'itwhichturnedinto', 'itz', 'ivatte', 'ive', 'iz', 'izzit', 'j', 'ja', 'jabo', 'jack', 'jacket', 'jackson', 'jacuzzi', 'jaklin', 'jam', 'james', 'jamster', 'jan', 'janarige', 'jane', 'january', 'jap', 'jas', 'jason', 'java', 'jay', 'jaya', 'jaykwon', 'jazz', 'jb', 'je', 'jealous', 'jeans', 'jeetey', 'jeevithathile', 'jelly', 'jenne', 'jenny', 'jess', 'jesus', 'jet', 'jetton', 'jewelry', 'ji', 'jiayin', 'jide', 'jiu', 'jo', 'job', 'jobs', 'jocks', 'jod', 'jog', 'jogging', 'john', 'join', 'joined', 'joining', 'joke', 'joker', 'jokes', 'jokin', 'joking', 'jolly', 'jolt', 'jontin', 'jot', 'journey', 'joy', 'joys', 'jp', 'js', 'jst', 'juan', 'judgemental', 'juicy', 'jules', 'juliana', 'julianaland', 'jump', 'jumpers', 'june', 'jungle', 'jurong', 'jus', 'justbeen', 'justify', 'justthought', 'juz', 'jy', 'k', 'kaaj', 'kadeem', 'kaila', 'kaitlyn', 'kalaachutaarama', 'kalainar', 'kalisidare', 'kallis', 'kalstiya', 'kama', 'kane', 'kanji', 'kano', 'kappa', 'karaoke', 'karnan', 'karo', 'kaypoh', 'kb', 'ke', 'keen', 'keep', 'keeping', 'keeps', 'kegger', 'keluviri', 'kent', 'kept', 'kerala', 'kettoda', 'key', 'keypad', 'keys', 'keyword', 'kfc', 'kg', 'khelate', 'ki', 'kick', 'kickboxing', 'kickoff', 'kicks', 'kid', 'kidding', 'kids', 'kiefer', 'kill', 'killed', 'killing', 'kills', 'kilos', 'kind', 'kinda', 'kindly', 'king', 'kintu', 'kiosk', 'kip', 'kisi', 'kiss', 'kisses', 'kissing', 'kittum', 'kitty', 'knackered', 'knee', 'knees', 'knew', 'knickers', 'knocking', 'know', 'knowing', 'known', 'knows', 'knw', 'ko', 'kochi', 'kodstini', 'kodthini', 'kolathupalayam', 'konw', 'korche', 'korean', 'korli', 'korte', 'kotees', 'kothi', 'ktv', 'kuch', 'kvb', 'kz', 'l', 'la', 'lab', 'labor', 'lac', 'lacking', 'lacs', 'laden', 'ladies', 'lady', 'lag', 'lage', 'lager', 'laid', 'lakhs', 'lambda', 'lambu', 'lamp', 'land', 'landing', 'landline', 'landlineonly', 'landlines', 'landmark', 'lands', 'lane', 'langport', 'language', 'lanka', 'lanre', 'lap', 'lapdancer', 'laptop', 'lar', 'laready', 'largest', 'lark', 'lasagna', 'last', 'lastest', 'lasting', 'late', 'lately', 'latelyxxx', 'later', 'latest', 'latests', 'latr', 'laugh', 'laughing', 'laughs', 'laundry', 'laurie', 'lautech', 'lavender', 'law', 'laxinorficated', 'layin', 'laying', 'lays', 'lazy', 'lb', 'ld', 'ldew', 'le', 'lead', 'leadership', 'leading', 'leads', 'leafcutter', 'league', 'learn', 'learned', 'least', 'leave', 'leaves', 'leaving', 'lect', 'lecture', 'lecturer', 'left', 'leftovers', 'leg', 'legal', 'legitimat', 'legs', 'leh', 'lei', 'lemme', 'length', 'lengths', 'lennon', 'leo', 'leona', 'leonardo', 'less', 'lesser', 'lesson', 'lessons', 'let', 'lets', 'letter', 'letters', 'level', 'li', 'liao', 'lib', 'library', 'lick', 'licks', 'lido', 'lie', 'lies', 'life', 'lifebook', 'lifeis', 'lifetime', 'lift', 'lifted', 'lifting', 'light', 'lighters', 'lightly', 'lik', 'like', 'liked', 'likely', 'likes', 'lil', 'lim', 'limit', 'limiting', 'limits', 'limping', 'line', 'linear', 'lined', 'linerental', 'lines', 'lingerie', 'lingo', 'link', 'links', 'linux', 'lion', 'lionm', 'lionp', 'lip', 'lipo', 'lips', 'liquor', 'list', 'listed', 'listen', 'listened', 'listener', 'listening', 'listn', 'lists', 'lit', 'literally', 'little', 'live', 'lived', 'liver', 'lives', 'living', 'lk', 'lmao', 'lnly', 'lo', 'load', 'loads', 'loan', 'loans', 'lobby', 'local', 'location', 'locations', 'lock', 'locks', 'lodge', 'lodging', 'log', 'logged', 'logging', 'login', 'logo', 'logoff', 'logos', 'loko', 'lol', 'londn', 'london', 'loneliness', 'lonely', 'long', 'longer', 'lonlines', 'loo', 'look', 'looked', 'lookin', 'looking', 'looks', 'looovvve', 'loose', 'loosing', 'lor', 'lose', 'losers', 'loses', 'losing', 'loss', 'lost', 'lot', 'lotr', 'lots', 'lotsly', 'lotsof', 'lotta', 'lotto', 'lotz', 'lou', 'loud', 'lounge', 'lousy', 'lov', 'lovable', 'love', 'loveJen', 'loved', 'lovely', 'lover', 'loverboy', 'lovers', 'loves', 'lovin', 'loving', 'lovingly', 'lovly', 'low', 'lower', 'lowes', 'loxahatchee', 'loyal', 'loyalty', 'lp', 'lst', 'lt', 'lttrs', 'lubly', 'luck', 'lucky', 'lucozade', 'luks', 'lunch', 'lunchtime', 'lunsford', 'lush', 'luv', 'luvd', 'luvs', 'luxury', 'lv', 'lyf', 'lyfu', 'lying', 'lyk', 'lyricalladie', 'lyrics', 'maaaan', 'mac', 'machan', 'machi', 'machines', 'macho', 'mack', 'macleran', 'macs', 'mad', 'madam', 'made', 'madodu', 'madoke', 'madstini', 'madurai', 'mag', 'maga', 'magazine', 'maggi', 'magic', 'magical', 'magicalsongs', 'mah', 'mahal', 'mahfuuz', 'mail', 'mailed', 'mails', 'main', 'maintaining', 'major', 'make', 'makes', 'makiing', 'makin', 'making', 'malaria', 'malarky', 'male', 'mall', 'man', 'manage', 'manageable', 'managed', 'management', 'manda', 'mandara', 'manege', 'mango', 'maniac', 'manky', 'manual', 'many', 'map', 'mapquest', 'maps', 'maraikara', 'marandratha', 'march', 'margin', 'marine', 'mark', 'market', 'marketing', 'marking', 'marrge', 'marriage', 'married', 'marrow', 'marry', 'mary', 'mas', 'masked', 'massage', 'massages', 'massive', 'masteriastering', 'masters', 'match', 'matches', 'mate', 'mates', 'math', 'mathematics', 'maths', 'matra', 'matric', 'matter', 'matters', 'matured', 'maturity', 'max', 'maximize', 'maximum', 'may', 'mayb', 'maybe', 'mb', 'mc', 'mca', 'mcat', 'mcr', 'meal', 'meals', 'mean', 'meaning', 'meaningful', 'meaningless', 'means', 'meant', 'measure', 'meatballs', 'med', 'medical', 'medicine', 'meds', 'mee', 'meet', 'meetin', 'meeting', 'meetins', 'meets', 'meg', 'mega', 'meh', 'mei', 'meive', 'mel', 'melody', 'melt', 'member', 'members', 'membership', 'memorable', 'memories', 'memory', 'men', 'mens', 'mental', 'mention', 'mentioned', 'mentionned', 'mentor', 'menu', 'meow', 'merely', 'merry', 'mesages', 'mess', 'message', 'messaged', 'messages', 'messenger', 'messy', 'met', 'method', 'mgs', 'mi', 'mia', 'mid', 'middle', 'midnight', 'mids', 'might', 'miiiiiiissssssssss', 'mike', 'miles', 'milk', 'millers', 'million', 'milta', 'min', 'minAPN', 'minMobsmore', 'minMobsmoreLKPOBOX', 'mina', 'mind', 'minded', 'mindset', 'mine', 'minecraft', 'mini', 'minimum', 'minmoremobsEMSPOBox', 'minor', 'mins', 'mint', 'minus', 'minute', 'minutes', 'minuts', 'miracle', 'mirror', 'mis', 'misbehaved', 'miserable', 'misfits', 'mising', 'miss', 'misscall', 'missed', 'missin', 'missing', 'missionary', 'missions', 'misss', 'missunderstding', 'mist', 'mistake', 'mistakes', 'misundrstud', 'mite', 'mitsake', 'miwa', 'mj', 'mjzgroup', 'ml', 'mls', 'mns', 'mnth', 'mo', 'moan', 'mob', 'mobile', 'mobiles', 'mobilesvary', 'mobs', 'mobsi', 'moby', 'mode', 'model', 'modl', 'module', 'modules', 'mofo', 'moji', 'mokka', 'molested', 'mom', 'moment', 'moments', 'moms', 'mon', 'monday', 'mone', 'moneY', 'money', 'monkey', 'monkeys', 'mono', 'monos', 'monster', 'month', 'monthly', 'months', 'mood', 'moon', 'moreFrmMob', 'morn', 'mornin', 'morning', 'moro', 'morow', 'morphine', 'morro', 'morrow', 'morrowxxxx', 'moseley', 'mostly', 'mother', 'motherfucker', 'motivating', 'motive', 'motor', 'motorola', 'mountain', 'mouse', 'mouth', 'move', 'moved', 'moves', 'movie', 'movies', 'movietrivia', 'moving', 'mp', 'mph', 'mr', 'mre', 'mrng', 'mro', 'mrt', 'mrw', 'ms', 'msg', 'msging', 'msgrcvd', 'msgs', 'msn', 'mt', 'mth', 'mths', 'mtmsg', 'mtnl', 'mu', 'much', 'muchand', 'mudyadhu', 'mufti', 'muht', 'multimedia', 'multis', 'mum', 'mumHas', 'mumbai', 'mummy', 'mundhe', 'murali', 'murder', 'murdered', 'murderer', 'mus', 'mush', 'mushy', 'music', 'musical', 'musicnews', 'must', 'musthu', 'mustprovide', 'mutai', 'mutations', 'muz', 'mw', 'mylife', 'mymoby', 'myparents', 'mys', 'n', 'na', 'naal', 'nachos', 'nag', 'nagar', 'nahi', 'nails', 'naked', 'nalla', 'nalli', 'name', 'named', 'names', 'nammanna', 'namous', 'nan', 'nange', 'nanny', 'nannys', 'nap', 'narcotics', 'naseeb', 'nasty', 'nat', 'natalie', 'national', 'nattil', 'natural', 'nature', 'natwest', 'naughty', 'nauseous', 'nav', 'navigate', 'nb', 'nd', 'ne', 'near', 'nearby', 'nearer', 'nearly', 'necesity', 'necessarily', 'necessary', 'necessity', 'neck', 'necklace', 'ned', 'need', 'needa', 'needed', 'needing', 'needle', 'needs', 'needy', 'neekunna', 'negative', 'neglect', 'neglet', 'neighbor', 'neighbors', 'neither', 'nelson', 'nervous', 'net', 'netUN', 'netflix', 'netvision', 'network', 'networking', 'networks', 'neva', 'nevamind', 'never', 'nevering', 'nevr', 'new', 'newest', 'news', 'newscaster', 'newsletter', 'newspapers', 'next', 'nhite', 'ni', 'nice', 'nichols', 'nicky', 'nig', 'nigeria', 'night', 'nighters', 'nightnight', 'nights', 'nigpun', 'nigro', 'nike', 'ninish', 'nino', 'nipost', 'nit', 'nite', 'nitro', 'nitros', 'nitz', 'njan', 'nmde', 'nobbing', 'nobody', 'noe', 'noi', 'noise', 'noisy', 'nokia', 'nokias', 'noline', 'non', 'noncomittal', 'none', 'nonetheless', 'noon', 'nora', 'nordstrom', 'norm', 'normal', 'normally', 'north', 'northampton', 'nos', 'nose', 'nosh', 'nosy', 'note', 'notebook', 'notes', 'nothin', 'nothing', 'notice', 'notifications', 'notified', 'notixiquating', 'notxt', 'noun', 'novelty', 'nowadays', 'nt', 'nte', 'ntimate', 'ntwk', 'nuclear', 'nudist', 'nuerologist', 'num', 'number', 'numbers', 'nursery', 'nurses', 'nus', 'nusstu', 'nuther', 'nvm', 'nw', 'nxt', 'nyc', 'nydc', 'nyt', 'nz', 'oath', 'obedient', 'obese', 'obey', 'objection', 'oble', 'oblisingately', 'oblivious', 'obviously', 'occasion', 'occupied', 'occupy', 'occur', 'occurs', 'oclock', 'october', 'odalebeku', 'odi', 'offc', 'offcampus', 'offdam', 'offense', 'offer', 'offered', 'offering', 'offers', 'office', 'officer', 'official', 'officially', 'offline', 'ofice', 'ofstuff', 'often', 'oga', 'ogunrinde', 'oh', 'oil', 'ok', 'okay', 'okday', 'okie', 'okmail', 'ola', 'olage', 'olave', 'olayiwola', 'old', 'ollu', 'olowoyey', 'olympics', 'omw', 'onbus', 'ondu', 'one', 'ones', 'oni', 'onion', 'online', 'onluy', 'onto', 'onwards', 'onwords', 'open', 'opened', 'opener', 'openin', 'opening', 'openings', 'operate', 'operator', 'opinion', 'opinions', 'opponenter', 'opportunity', 'opposed', 'opposite', 'opps', 'opt', 'opted', 'optical', 'optimistic', 'optin', 'option', 'optout', 'oral', 'orange', 'orc', 'orchard', 'order', 'ordered', 'ore', 'oredi', 'oreo', 'org', 'organise', 'orig', 'original', 'orno', 'ors', 'ortxt', 'oru', 'os', 'oscar', 'oso', 'others', 'otherwise', 'othrs', 'otside', 'ou', 'ouch', 'outage', 'outages', 'outbid', 'outdoors', 'outfit', 'outfor', 'outgoing', 'outrageous', 'outreach', 'outs', 'outside', 'outsider', 'outstanding', 'outta', 'ovarian', 'oveable', 'overa', 'overdid', 'overemphasise', 'overheating', 'overtime', 'ovr', 'ovulate', 'ovulation', 'ow', 'owe', 'owed', 'owl', 'owned', 'owns', 'owo', 'oxygen', 'oyster', 'oz', 'p', 'pa', 'paces', 'pack', 'package', 'packing', 'packs', 'padhe', 'page', 'pages', 'pai', 'paid', 'pain', 'painful', 'paining', 'painting', 'pairs', 'pale', 'palm', 'pan', 'panalam', 'pandy', 'panic', 'panicks', 'panren', 'panties', 'pants', 'pap', 'papa', 'paper', 'papers', 'paperwork', 'paracetamol', 'parachute', 'parade', 'paragon', 'paragraphs', 'paranoid', 'parantella', 'parchi', 'parco', 'parent', 'parents', 'parish', 'park', 'parked', 'parkin', 'parking', 'part', 'participate', 'particular', 'particularly', 'parties', 'partner', 'partnership', 'parts', 'party', 'paru', 'pases', 'pass', 'passable', 'passed', 'passes', 'passion', 'passionate', 'passport', 'password', 'past', 'pataistha', 'patent', 'path', 'paths', 'patients', 'pattern', 'patty', 'pause', 'pax', 'pay', 'payasam', 'payback', 'payed', 'paying', 'payment', 'payments', 'payoh', 'paypal', 'pc', 'pdate', 'peace', 'peaceful', 'peak', 'pears', 'pee', 'peeps', 'pehle', 'pei', 'pen', 'pence', 'pendent', 'pending', 'penis', 'people', 'peoples', 'per', 'perWKsub', 'percent', 'percentages', 'perf', 'perfect', 'perform', 'performance', 'performed', 'perfume', 'perhaps', 'period', 'permanent', 'permission', 'permissions', 'perpetual', 'persevered', 'person', 'personal', 'personally', 'persons', 'perspective', 'pert', 'perumbavoor', 'perweeksub', 'pes', 'pesky', 'petrol', 'petticoatdreams', 'pg', 'ph', 'phasing', 'phb', 'phd', 'phews', 'philosophical', 'philosophy', 'phne', 'phone', 'phonebook', 'phoned', 'phones', 'photo', 'photos', 'photoshop', 'phrase', 'phyhcmk', 'physics', 'piah', 'pic', 'pick', 'picked', 'picking', 'pickle', 'pics', 'picture', 'pictures', 'pie', 'piece', 'pieces', 'pierre', 'pig', 'pilates', 'pile', 'pillows', 'pimples', 'pin', 'pink', 'pints', 'pisces', 'piss', 'pissed', 'pist', 'pix', 'pixels', 'pizza', 'place', 'placed', 'placement', 'places', 'plaid', 'plan', 'plane', 'planet', 'planned', 'planning', 'plans', 'plate', 'play', 'played', 'player', 'players', 'playing', 'playng', 'plaza', 'pleasant', 'please', 'pleased', 'pleasure', 'pleasured', 'plenty', 'plm', 'ploughing', 'pls', 'plum', 'plumbers', 'plumbing', 'plural', 'plus', 'plz', 'pm', 'pmmorefrommobile', 'pmt', 'po', 'pocay', 'pocked', 'pockets', 'pocy', 'poem', 'poet', 'point', 'points', 'poker', 'poking', 'pole', 'police', 'politicians', 'poly', 'polyH', 'polyPH', 'polypH', 'polyphonic', 'polys', 'pongal', 'ponnungale', 'poo', 'pooja', 'pookie', 'pool', 'poop', 'poor', 'poorly', 'poortiyagi', 'pop', 'popcorn', 'popped', 'popping', 'porn', 'porridge', 'port', 'portal', 'portege', 'pos', 'posh', 'posible', 'position', 'positions', 'positive', 'possession', 'possessive', 'possessiveness', 'possibility', 'possible', 'possibly', 'post', 'postal', 'postcode', 'posted', 'posting', 'postponed', 'posts', 'potato', 'potential', 'pouch', 'pound', 'pounded', 'pounds', 'poured', 'pours', 'pouts', 'power', 'powerful', 'pp', 'ppermessSubscription', 'ppl', 'pple', 'ppm', 'ppmPOBox', 'ppmmobilesvary', 'ppmsg', 'ppmx', 'ppt', 'prabha', 'pract', 'practical', 'practice', 'practicing', 'practicum', 'practising', 'praises', 'prakasam', 'prakasamanu', 'praps', 'prasad', 'pray', 'prayers', 'praying', 'pre', 'predict', 'predicting', 'prediction', 'predictive', 'prefer', 'preferably', 'prem', 'premium', 'prepaid', 'prepare', 'prepared', 'prepayment', 'preponed', 'prescribed', 'prescripiton', 'prescription', 'presence', 'present', 'presents', 'presnts', 'press', 'pressies', 'pressure', 'prestige', 'pretend', 'pretsorginta', 'pretsovru', 'pretty', 'prevent', 'previews', 'previous', 'previously', 'prey', 'price', 'prices', 'pride', 'priest', 'prin', 'prince', 'princes', 'princess', 'print', 'printed', 'printing', 'prior', 'priority', 'priscilla', 'privacy', 'private', 'prix', 'priya', 'prize', 'prizes', 'prizesWith', 'prob', 'probably', 'problem', 'problematic', 'problems', 'problum', 'probs', 'process', 'processed', 'prods', 'products', 'professional', 'professors', 'profile', 'profiles', 'profit', 'program', 'programs', 'progress', 'project', 'projects', 'prolly', 'prometazine', 'prominent', 'promise', 'promised', 'promises', 'promoting', 'promptly', 'prompts', 'prone', 'proof', 'proove', 'proper', 'properly', 'property', 'propose', 'propsd', 'pros', 'prospects', 'protect', 'prove', 'provided', 'provider', 'providing', 'province', 'proze', 'prsn', 'ps', 'pthis', 'pub', 'public', 'publish', 'pubs', 'pudunga', 'pull', 'pulling', 'pulls', 'pump', 'punch', 'punish', 'punishment', 'punj', 'punto', 'puppy', 'pura', 'purchase', 'purchases', 'pure', 'purpose', 'purse', 'push', 'pushes', 'pussy', 'put', 'puts', 'puttin', 'putting', 'puzzeles', 'puzzles', 'pw', 'qatar', 'qbank', 'qet', 'qi', 'qing', 'quality', 'quarter', 'queen', 'question', 'questioned', 'questions', 'quick', 'quickly', 'quiet', 'quit', 'quite', 'quitting', 'quiz', 'quizclub', 'quizzes', 'quote', 'quoting', 'qxj', 'r', 'racing', 'radiator', 'radio', 'raed', 'rael', 'raglan', 'rahul', 'raiden', 'railway', 'rain', 'raining', 'raise', 'raised', 'rajas', 'rajini', 'rakhesh', 'raksha', 'ralphs', 'ramen', 'ran', 'random', 'randomlly', 'randomly', 'randy', 'rang', 'range', 'raping', 'rate', 'rates', 'rather', 'ratio', 'rawring', 'rayan', 'rays', 'rcb', 'rcd', 'rcv', 'rcvd', 'rd', 'rdy', 'reLation', 'reach', 'reache', 'reached', 'reaching', 'reacting', 'reaction', 'read', 'readers', 'readiness', 'reading', 'ready', 'real', 'realise', 'realised', 'realising', 'reality', 'realize', 'realized', 'realizes', 'really', 'realy', 'reapply', 'rearrange', 'reason', 'reasonable', 'reasons', 'reassurance', 'reassuring', 'reboot', 'rebooting', 'rebtel', 'rec', 'recd', 'receipt', 'receipts', 'receive', 'receivea', 'received', 'receiving', 'recent', 'recently', 'reception', 'recession', 'recharge', 'recharged', 'recieve', 'reckon', 'recognise', 'recognises', 'record', 'recorded', 'recorder', 'records', 'recount', 'recovery', 'recreation', 'recycling', 'red', 'redeemable', 'redeemed', 'reduce', 'ree', 'ref', 'reference', 'references', 'referin', 'reffering', 'refilled', 'reflex', 'reformat', 'refreshed', 'refund', 'refunded', 'refused', 'reg', 'regalportfolio', 'regard', 'regarding', 'regards', 'register', 'registered', 'registration', 'regret', 'regretted', 'regular', 'rejected', 'related', 'relation', 'relationship', 'relatives', 'relax', 'relaxing', 'released', 'reliant', 'relieved', 'religiously', 'relocate', 'reltnship', 'rem', 'remain', 'remains', 'remb', 'remember', 'remembered', 'remembr', 'remind', 'reminded', 'reminder', 'reminding', 'reminds', 'remixed', 'removal', 'remove', 'removed', 'rencontre', 'renewal', 'renewed', 'renewing', 'rent', 'rental', 'renting', 'rentl', 'rents', 'repair', 'repairs', 'repeat', 'repeating', 'repent', 'replace', 'replacement', 'replacing', 'replied', 'replies', 'reply', 'replying', 'report', 'reppurcussions', 'representative', 'republic', 'request', 'requests', 'require', 'required', 'requirements', 'requires', 'research', 'resent', 'reservations', 'reserve', 'reserved', 'reserves', 'reset', 'residency', 'resizing', 'reslove', 'resolution', 'resolved', 'resort', 'respect', 'respectful', 'responce', 'respond', 'responding', 'response', 'responsibilities', 'responsibility', 'responsible', 'rest', 'restaurant', 'restock', 'restocked', 'restrict', 'restrictions', 'resubbing', 'resubmit', 'result', 'results', 'resume', 'resuming', 'retard', 'retired', 'retrieve', 'return', 'returned', 'returning', 'returns', 'reunion', 'reveal', 'revealed', 'revealing', 'review', 'revision', 'reward', 'rewarding', 'rhode', 'rhythm', 'rice', 'rich', 'riddance', 'ridden', 'ride', 'right', 'rightly', 'rights', 'riley', 'rimac', 'ring', 'ringing', 'ringtone', 'ringtoneking', 'ringtones', 'rinu', 'rip', 'ripped', 'risk', 'risks', 'rite', 'ritten', 'river', 'road', 'roads', 'roast', 'rob', 'robinson', 'robs', 'rock', 'rocking', 'rocks', 'rofl', 'roger', 'role', 'roles', 'rolled', 'roller', 'romantic', 'ron', 'room', 'roomate', 'roommate', 'roommates', 'rooms', 'ros', 'rose', 'rough', 'round', 'rounder', 'rounds', 'route', 'row', 'rowdy', 'rows', 'royal', 'rpl', 'rply', 'rr', 'rs', 'rtf', 'ru', 'rub', 'rubber', 'rude', 'rugby', 'ruin', 'ruining', 'rule', 'rules', 'rumbling', 'rummer', 'rumour', 'run', 'running', 'runs', 'rupaul', 'rush', 'rushing', 'ruthful', 'ryan', 'sOOn', 'sabarish', 'sachin', 'sack', 'sacked', 'sacrifice', 'sad', 'safe', 'safely', 'safety', 'saibaba', 'said', 'sake', 'salary', 'sale', 'sales', 'salesman', 'salmon', 'salon', 'salt', 'samachara', 'samantha', 'sambar', 'samus', 'sandiago', 'sane', 'sang', 'santacalling', 'sao', 'sapna', 'sar', 'sarasota', 'sarcasm', 'sarcastic', 'sariyag', 'sashimi', 'sat', 'satanic', 'sathy', 'sathya', 'satisfied', 'satisfy', 'satsgettin', 'saturday', 'saucy', 'save', 'saved', 'saves', 'savings', 'saw', 'say', 'sayhey', 'sayin', 'saying', 'says', 'sayy', 'sc', 'scallies', 'scammers', 'scarcasim', 'scared', 'scary', 'scenario', 'scenery', 'sch', 'schedule', 'school', 'schools', 'science', 'scold', 'scorable', 'score', 'scores', 'scotland', 'scouse', 'scraped', 'scrappy', 'scratches', 'scratching', 'scream', 'screamed', 'screaming', 'screen', 'screwd', 'scrounge', 'scrumptious', 'sculpture', 'sd', 'sdryb', 'se', 'sea', 'search', 'searching', 'season', 'seat', 'sec', 'second', 'secondary', 'seconds', 'secret', 'secretary', 'secretly', 'secrets', 'secs', 'section', 'sections', 'secure', 'sed', 'see', 'seeds', 'seeing', 'seekers', 'seeking', 'seem', 'seemed', 'seems', 'seen', 'sef', 'seh', 'sehwag', 'seing', 'select', 'selected', 'selection', 'self', 'selfish', 'selflessness', 'sell', 'selling', 'sells', 'sem', 'semester', 'semi', 'semiobscure', 'sen', 'send', 'sending', 'senor', 'senrd', 'sense', 'senses', 'sensible', 'sensitive', 'sent', 'sentence', 'senthil', 'seperated', 'sept', 'september', 'series', 'serious', 'seriously', 'served', 'server', 'service', 'services', 'serving', 'set', 'setting', 'settings', 'settle', 'settled', 'settling', 'seven', 'several', 'sex', 'sexiest', 'sextextuk', 'sexual', 'sexy', 'sg', 'sh', 'sha', 'shade', 'shadow', 'shag', 'shagged', 'shakara', 'shake', 'shaking', 'shall', 'shame', 'shangela', 'shanghai', 'shaping', 'share', 'shared', 'sharing', 'shattered', 'shaved', 'shd', 'sheet', 'sheets', 'sheffield', 'shelf', 'shell', 'shelves', 'shes', 'shexy', 'shindig', 'shining', 'ship', 'shipped', 'shipping', 'shirt', 'shirts', 'shit', 'shite', 'shitload', 'shitstorm', 'shld', 'shldxxxx', 'shock', 'shocking', 'shoes', 'shoot', 'shop', 'shoppin', 'shopping', 'shore', 'short', 'shortage', 'shortbreaks', 'shortcode', 'shorter', 'shortly', 'shorts', 'shot', 'shoulders', 'shouted', 'shouting', 'shove', 'shoving', 'show', 'showed', 'shower', 'showered', 'showers', 'showing', 'showrooms', 'shows', 'shrek', 'shrink', 'shrub', 'shsex', 'shu', 'shud', 'shuhui', 'shun', 'shut', 'shy', 'si', 'sian', 'sic', 'sick', 'sickness', 'side', 'sigh', 'sighs', 'sight', 'sign', 'signal', 'significance', 'significant', 'signin', 'signing', 'siguviri', 'silence', 'silent', 'silently', 'silly', 'silver', 'sim', 'simonwatson', 'simple', 'simpler', 'simply', 'simulate', 'since', 'sing', 'singapore', 'singing', 'single', 'singles', 'sink', 'sip', 'sips', 'sir', 'sis', 'sister', 'sisters', 'sit', 'site', 'sitll', 'sitter', 'sittin', 'sitting', 'situation', 'situations', 'siva', 'six', 'size', 'sized', 'sk', 'skateboarding', 'skills', 'skinny', 'skins', 'skint', 'skip', 'skirt', 'sky', 'skye', 'skype', 'skyped', 'skyving', 'slacking', 'slap', 'slave', 'sleep', 'sleepin', 'sleeping', 'sleeps', 'sleepy', 'slept', 'slice', 'slices', 'slide', 'sliding', 'slightly', 'slip', 'slippers', 'slippery', 'slo', 'slob', 'slots', 'slovely', 'slow', 'slower', 'slowing', 'slowly', 'slp', 'slurp', 'smacks', 'small', 'smaller', 'smart', 'smarter', 'smash', 'smashed', 'smear', 'smell', 'smells', 'smeone', 'smidgin', 'smile', 'smiled', 'smiles', 'smiling', 'smoke', 'smoked', 'smokes', 'smokin', 'smoking', 'smoothly', 'sms', 'smsco', 'smsing', 'smsrewards', 'smth', 'sn', 'snake', 'snappy', 'snatch', 'sneham', 'snickering', 'snogs', 'snot', 'snow', 'snowball', 'snowboarding', 'snowman', 'snuggles', 'soc', 'sochte', 'social', 'sofa', 'soft', 'software', 'soil', 'soiree', 'soladha', 'solihull', 'solve', 'solved', 'somebody', 'someday', 'someone', 'someplace', 'somerset', 'sometext', 'somethin', 'something', 'sometime', 'sometimes', 'sometme', 'somewhat', 'somewhere', 'somewhereSomeone', 'somone', 'somtimes', 'sonathaya', 'song', 'songs', 'sony', 'soo', 'soon', 'sooner', 'sooo', 'soooo', 'sooooo', 'sophas', 'sore', 'sorrow', 'sorrows', 'sorry', 'sort', 'sorta', 'sorted', 'sorting', 'sorts', 'sory', 'soryda', 'soul', 'sound', 'sounds', 'soundtrack', 'soup', 'source', 'sources', 'south', 'southern', 'souveniers', 'space', 'spacebucks', 'spaces', 'spageddies', 'spanish', 'spare', 'spares', 'spark', 'sparkling', 'spatula', 'speak', 'speaking', 'special', 'specialisation', 'specialise', 'specially', 'specific', 'specify', 'specs', 'speechless', 'speed', 'speeding', 'speling', 'spell', 'spelled', 'spelling', 'spend', 'spending', 'spent', 'sphosting', 'spice', 'spiffing', 'spile', 'spin', 'spirit', 'spiritual', 'spk', 'spl', 'splash', 'splendid', 'split', 'splleing', 'spoil', 'spoiled', 'spoilt', 'spoke', 'spoken', 'sponsors', 'spontaneously', 'spoon', 'sporadically', 'sport', 'sports', 'spot', 'spotty', 'spouse', 'spreadsheet', 'spree', 'spring', 'springs', 'spys', 'sq', 'squatting', 'squeezed', 'squid', 'sri', 'srs', 'srsly', 'srt', 'sry', 'st', 'stability', 'stable', 'stadium', 'staff', 'stage', 'stagwood', 'stairs', 'stalk', 'stalking', 'stamped', 'stamps', 'stand', 'standard', 'standing', 'stands', 'star', 'starer', 'staring', 'starring', 'stars', 'starshine', 'start', 'started', 'starting', 'starts', 'starve', 'starving', 'stash', 'stated', 'statement', 'statements', 'station', 'status', 'stay', 'stayed', 'stayin', 'staying', 'stays', 'stchoice', 'std', 'steak', 'steal', 'stealing', 'steam', 'steamboat', 'steed', 'steering', 'step', 'steps', 'stereo', 'sterling', 'sterm', 'steve', 'steyn', 'sth', 'stick', 'sticky', 'stifled', 'still', 'stink', 'stitch', 'stock', 'stocked', 'stolen', 'stomach', 'stomps', 'stone', 'stoners', 'stones', 'stool', 'stop', 'stopCost', 'stopped', 'stops', 'stopsms', 'stoptxt', 'stoptxtstop', 'store', 'stores', 'stories', 'story', 'str', 'straight', 'strain', 'strange', 'stranger', 'street', 'stress', 'stressed', 'stressful', 'stressfull', 'stretch', 'strewn', 'strict', 'strike', 'strings', 'stripes', 'strips', 'strong', 'strongly', 'strt', 'strtd', 'struggling', 'sts', 'stubborn', 'stuck', 'studdying', 'students', 'studies', 'studio', 'study', 'studying', 'studyn', 'stuff', 'stuffed', 'stuffing', 'stuffs', 'stunning', 'stupid', 'style', 'styles', 'styling', 'stylish', 'sub', 'subject', 'subletting', 'submitted', 'submitting', 'subs', 'subscribe', 'subscribed', 'subscriber', 'subscribers', 'subscription', 'subscriptions', 'subscrition', 'subsequent', 'subtoitles', 'success', 'successful', 'successfully', 'sucker', 'suckers', 'sucks', 'sudden', 'suddenly', 'sudn', 'sue', 'suffer', 'suffering', 'suffers', 'sufficient', 'sugar', 'sugardad', 'suggest', 'suggestion', 'suggestions', 'suite', 'suitemates', 'suits', 'sum', 'sumfing', 'summer', 'summon', 'sumthin', 'sun', 'sunday', 'sundayish', 'sunlight', 'sunny', 'sunoco', 'sunroof', 'sunshine', 'suntec', 'sup', 'super', 'superb', 'superior', 'supervisor', 'suply', 'supose', 'suppliers', 'supplies', 'supply', 'support', 'supports', 'suppose', 'supposed', 'supreme', 'sura', 'sure', 'surely', 'surf', 'surfing', 'surgical', 'surname', 'surprise', 'surprised', 'surrender', 'surrounded', 'survey', 'surya', 'sutra', 'sux', 'suzy', 'svc', 'swalpa', 'swann', 'swashbuckling', 'swatch', 'sway', 'swear', 'sweater', 'sweatter', 'sweet', 'sweetie', 'sweets', 'swell', 'swhrt', 'swimming', 'swimsuit', 'swing', 'swiss', 'switch', 'swollen', 'swoop', 'swt', 'syd', 'syllabus', 'symbol', 'synced', 'syrup', 'system', 'systems', 'ta', 'table', 'tablet', 'tablets', 'tackle', 'tacos', 'tactful', 'tactless', 'tag', 'tagged', 'tahan', 'tai', 'tait', 'take', 'taken', 'takes', 'takin', 'taking', 'talent', 'talents', 'talk', 'talking', 'talks', 'tall', 'tallahassee', 'tallent', 'tamilnadu', 'tampa', 'tank', 'tantrum', 'tap', 'tape', 'tariffs', 'tarpon', 'taste', 'tat', 'tats', 'tattoos', 'tau', 'taught', 'taunton', 'taxes', 'taxi', 'taxless', 'taxt', 'taylor', 'tb', 'tc', 'tddnewsletter', 'te', 'tea', 'teach', 'teacher', 'teaches', 'teaching', 'team', 'teams', 'tear', 'tears', 'tease', 'teasing', 'tech', 'technical', 'technologies', 'teenager', 'teeth', 'teju', 'tel', 'telediscount', 'telephone', 'tell', 'telling', 'tells', 'telly', 'telphone', 'telugu', 'temales', 'temp', 'temper', 'temple', 'ten', 'tendencies', 'tensed', 'term', 'terms', 'ternal', 'terrible', 'terrific', 'terrorist', 'tescos', 'test', 'testing', 'tests', 'texas', 'text', 'textand', 'textbook', 'textcomp', 'texted', 'textin', 'texting', 'textoperator', 'textpod', 'texts', 'tf', 'tgxxrz', 'th', 'thFeb', 'thMarch', 'thNOV', 'thandiyachu', 'thangam', 'thank', 'thanks', 'thanksgiving', 'thanx', 'thats', 'theKingshead', 'theater', 'theatre', 'themed', 'themes', 'thenampet', 'theory', 'theplace', 'thepub', 'theres', 'thesedays', 'thesis', 'thesmszone', 'thet', 'thia', 'thin', 'thing', 'things', 'think', 'thinkThis', 'thinked', 'thinkin', 'thinking', 'thinks', 'thinl', 'thirtyeight', 'thirunelvali', 'thk', 'thkin', 'thm', 'thnk', 'tho', 'thot', 'thou', 'though', 'thought', 'thoughts', 'thousad', 'thousands', 'thread', 'threats', 'three', 'threw', 'thriller', 'throat', 'throw', 'throwin', 'throwing', 'thrown', 'throws', 'thru', 'ths', 'tht', 'thts', 'thuglyfe', 'thurs', 'thursday', 'thus', 'thx', 'tick', 'ticket', 'tickets', 'tie', 'tiempo', 'tight', 'tightly', 'tigress', 'tihs', 'tiime', 'til', 'till', 'time', 'times', 'timi', 'timin', 'timing', 'timings', 'tiny', 'tip', 'tips', 'tired', 'tiring', 'tirunelvai', 'tirunelvali', 'tirupur', 'tis', 'title', 'tiwary', 'tix', 'tiz', 'tke', 'tkls', 'tkts', 'tlk', 'tlp', 'tm', 'tming', 'tmorow', 'tmr', 'tmrw', 'tms', 'tmw', 'toClaim', 'toDo', 'toa', 'toaday', 'tobacco', 'today', 'todays', 'tog', 'together', 'tohar', 'toilet', 'tok', 'token', 'toking', 'tol', 'told', 'tolerance', 'tolerat', 'tom', 'tomarrow', 'tomeandsaid', 'tomo', 'tomorro', 'tomorrow', 'tone', 'tones', 'tonght', 'tongued', 'tonight', 'tonights', 'tonite', 'tons', 'tonsolitusaswell', 'took', 'tookplace', 'tool', 'tooo', 'toot', 'tooth', 'toothpaste', 'tootsie', 'top', 'topic', 'topped', 'toppoly', 'tops', 'tor', 'torch', 'torrents', 'tortilla', 'torture', 'tosend', 'toshiba', 'toss', 'tot', 'total', 'totally', 'totes', 'touch', 'touched', 'tough', 'toughest', 'tour', 'towards', 'town', 'toyota', 'tp', 'tr', 'track', 'trade', 'traffic', 'train', 'trained', 'training', 'trainners', 'trains', 'tram', 'tranquility', 'transaction', 'transcribing', 'transfer', 'transfered', 'transferred', 'transfr', 'transfred', 'transport', 'trash', 'trauma', 'travel', 'traveling', 'travelled', 'travelling', 'treacle', 'treadmill', 'treasure', 'treat', 'treated', 'treatin', 'treats', 'trebles', 'tree', 'trek', 'trends', 'trial', 'tried', 'trip', 'trips', 'trishul', 'triumphed', 'trivia', 'tron', 'trouble', 'troubleshooting', 'trouser', 'truck', 'true', 'truffles', 'truly', 'trust', 'trusting', 'truth', 'try', 'tryin', 'trying', 'tsunamis', 'tt', 'ttyl', 'tue', 'tues', 'tuesday', 'tui', 'tuition', 'tul', 'tune', 'turkeys', 'turn', 'turned', 'turning', 'turns', 'tuth', 'tv', 'twat', 'twelve', 'twenty', 'twice', 'twins', 'two', 'txt', 'txtStop', 'txtX', 'txtin', 'txting', 'txts', 'txttowin', 'tyler', 'type', 'types', 'typical', 'u', 'uTxt', 'ubandu', 'ubi', 'ud', 'ugo', 'uh', 'uk', 'ultimatum', 'um', 'umma', 'ummifying', 'un', 'unable', 'unbelievable', 'unclaimed', 'uncle', 'uncles', 'uncomfortable', 'unconditionally', 'unconscious', 'unconsciously', 'unconvinced', 'uncountable', 'uncut', 'underdtand', 'understand', 'understanding', 'understood', 'underwear', 'undrstnd', 'undrstndng', 'unemployed', 'uneventful', 'unfolds', 'unfortunately', 'unfortuntly', 'unhappiness', 'unhappy', 'uni', 'uniform', 'unintentional', 'unintentionally', 'unique', 'units', 'univ', 'university', 'unjalur', 'unknown', 'unless', 'unlimited', 'unmits', 'unnecessarily', 'unrecognized', 'unredeemed', 'unsold', 'unspoken', 'unsub', 'unsubscribe', 'unsubscribed', 'unusual', 'upcharge', 'update', 'upgrade', 'upgrading', 'upload', 'uploaded', 'upon', 'upping', 'upset', 'upstairs', 'upto', 'ur', 'urawinner', 'ure', 'urgent', 'urgently', 'urgnt', 'urination', 'url', 'urmom', 'urself', 'us', 'usb', 'usc', 'use', 'used', 'useful', 'useless', 'user', 'uses', 'usf', 'using', 'usps', 'usual', 'usually', 'uterus', 'utter', 'uttered', 'uup', 'uv', 'uwana', 'uwant', 'uworld', 'v', 'va', 'vaazhthukkal', 'vague', 'vaguely', 'vale', 'valentine', 'valentines', 'valid', 'valuable', 'value', 'valued', 'valuing', 'varaya', 'vargu', 'various', 'varma', 'varunnathu', 'vary', 'vasai', 'vava', 'vday', 'vegas', 'vegetables', 'veggie', 'vehicle', 'velachery', 'venaam', 'venugopal', 'verified', 'verify', 'verifying', 'version', 'versus', 'vewy', 'via', 'vibrant', 'vibrate', 'vibrator', 'vic', 'victoria', 'victors', 'vid', 'video', 'videochat', 'videosound', 'videosounds', 'view', 'vijay', 'vijaykanth', 'vikky', 'vilikkam', 'vill', 'village', 'vinobanagar', 'violated', 'violence', 'vipclub', 'virgil', 'virgin', 'virgins', 'virtual', 'visa', 'visionsms', 'visit', 'visiting', 'visitor', 'visitors', 'vital', 'vitamin', 'vivek', 'vl', 'vodafone', 'vodka', 'voice', 'voicemail', 'volcanoes', 'vomit', 'vomitin', 'vomiting', 'vote', 'voted', 'vouch', 'voucher', 'vouchers', 'vry', 'vs', 'vth', 'w', 'wa', 'wad', 'wadebridge', 'wahala', 'wahay', 'waheed', 'waheeda', 'waht', 'wait', 'waited', 'waitin', 'waiting', 'wake', 'waking', 'waliking', 'walk', 'walkabout', 'walked', 'walkin', 'walking', 'walks', 'wall', 'wallet', 'wallpaper', 'walls', 'walmart', 'walsall', 'wamma', 'wan', 'wana', 'wanna', 'want', 'wanted', 'wanting', 'wants', 'wap', 'warm', 'warming', 'warned', 'warner', 'warning', 'warranty', 'warwick', 'washob', 'wasnt', 'waste', 'wasted', 'wasting', 'wat', 'watch', 'watched', 'watches', 'watchin', 'watching', 'watchng', 'water', 'watever', 'watevr', 'wats', 'watts', 'wave', 'wavering', 'waves', 'waxsto', 'way', 'waz', 'wc', 'weak', 'weakness', 'weaknesses', 'weapon', 'wear', 'wearing', 'weaseling', 'weasels', 'weather', 'web', 'webadres', 'website', 'wed', 'weddin', 'wedding', 'wednesday', 'weds', 'wee', 'weed', 'week', 'weekdays', 'weekend', 'weekends', 'weekly', 'weeks', 'weigh', 'weighed', 'weight', 'weird', 'weirdest', 'weirdo', 'weirdy', 'welcome', 'welcomes', 'well', 'welp', 'wen', 'wenever', 'went', 'wer', 'wesley', 'wesleys', 'west', 'western', 'westonzoyland', 'westshore', 'wet', 'wetherspoons', 'whatever', 'whats', 'wheat', 'wheel', 'wheellock', 'whenever', 'whereare', 'wherever', 'whether', 'whillTake', 'whispers', 'white', 'whn', 'whoever', 'whole', 'whos', 'whose', 'whr', 'wi', 'wicked', 'wicket', 'wid', 'widelive', 'wif', 'wife', 'wifes', 'wifi', 'wihtuot', 'wikipedia', 'wil', 'wildest', 'wildlife', 'willing', 'willpower', 'win', 'wind', 'window', 'windows', 'winds', 'windy', 'wine', 'wined', 'wining', 'winner', 'winning', 'wins', 'winterstone', 'wipro', 'wisdom', 'wise', 'wish', 'wisheds', 'wishes', 'wishin', 'wishing', 'wishlist', 'wiskey', 'wit', 'withdraw', 'wither', 'within', 'without', 'witin', 'witot', 'witout', 'wiv', 'wizzle', 'wk', 'wkend', 'wkg', 'wkly', 'wknd', 'wks', 'wlcome', 'wld', 'wml', 'wnt', 'wo', 'woah', 'wocay', 'woke', 'woken', 'woman', 'womdarfull', 'women', 'wondar', 'wondarfull', 'wonder', 'wonderful', 'wondering', 'wonders', 'wont', 'woot', 'woould', 'woozles', 'worc', 'word', 'words', 'work', 'workAnd', 'workage', 'workin', 'working', 'workout', 'works', 'world', 'worlds', 'worms', 'worried', 'worries', 'worry', 'worrying', 'worse', 'worst', 'worth', 'worthless', 'worzels', 'wot', 'woul', 'would', 'woulda', 'wounds', 'wow', 'wrc', 'wrd', 'wrecked', 'wrench', 'wrenching', 'write', 'writhing', 'wrk', 'wrking', 'wrks', 'wrnog', 'wrong', 'wrongly', 'wrote', 'ws', 'wt', 'wtc', 'wtf', 'wth', 'wthout', 'wtlp', 'wud', 'wudn', 'wuld', 'wuldnt', 'wun', 'www', 'wylie', 'x', 'xafter', 'xam', 'xavier', 'xh', 'xin', 'xmas', 'xt', 'xuhui', 'xx', 'xxSP', 'xxx', 'xxxmobilemovieclub', 'xxxx', 'xxxxxxx', 'xxxxxxxx', 'xxxxxxxxx', 'xxxxxxxxxxxxxX', 'xy', 'ya', 'yah', 'yahoo', 'yalrigu', 'yam', 'yan', 'yarasu', 'yards', 'yay', 'yck', 'yeP', 'yeah', 'year', 'years', 'yelling', 'yellow', 'yeovil', 'yep', 'yer', 'yes', 'yest', 'yesterday', 'yet', 'yetty', 'yetunde', 'yi', 'yifeng', 'yijue', 'ym', 'yo', 'yoga', 'yogasana', 'yor', 'yorge', 'youPhone', 'youdoing', 'young', 'younger', 'youre', 'yourinclusive', 'youuuuu', 'youwanna', 'yoville', 'yowifes', 'yr', 'yrs', 'ystrday', 'ything', 'yummy', 'yun', 'yuo', 'yuou', 'zac', 'zealand', 'zed', 'zeros', 'zhong', 'zoom', 'zyada']\n",
      "9624\n"
     ]
    }
   ],
   "source": [
    "vocab = cv.get_feature_names()\n",
    "print vocab\n",
    "print len(vocab)"
   ]
  },
  {
   "cell_type": "markdown",
   "metadata": {},
   "source": [
    "And finally, after the counting, the term weighting and normalization can be done with TF-IDF, using scikit-learn's TfidfTransformer"
   ]
  },
  {
   "cell_type": "markdown",
   "metadata": {},
   "source": [
    "TF-IDF stands for term frequency-inverse document frequency, and the tf-idf weight is a weight often used in information retrieval and text mining. This weight is a statistical measure used to evaluate how important a word is to a document in a collection or corpus. The importance increases proportionally to the number of times a word appears in the document but is offset by the frequency of the word in the corpus. Variations of the tf-idf weighting scheme are often used by search engines as a central tool in scoring and ranking a document's relevance given a user query.\n",
    "\n",
    "One of the simplest ranking functions is computed by summing the tf-idf for each query term; many more sophisticated ranking functions are variants of this simple model.\n",
    "\n",
    "Typically, the tf-idf weight is composed by two terms: the first computes the normalized Term Frequency (TF), aka. the number of times a word appears in a document, divided by the total number of words in that document; the second term is the Inverse Document Frequency (IDF), computed as the logarithm of the number of the documents in the corpus divided by the number of documents where the specific term appears.\n",
    "\n",
    "TF: Term Frequency, which measures how frequently a term occurs in a document. Since every document is different in length, it is possible that a term would appear much more times in long documents than shorter ones. Thus, the term frequency is often divided by the document length (aka. the total number of terms in the document) as a way of normalization:\n",
    "\n",
    "TF(t) = (Number of times term t appears in a document) / (Total number of terms in the document).\n",
    "\n",
    "IDF: Inverse Document Frequency, which measures how important a term is. While computing TF, all terms are considered equally important. However it is known that certain terms, such as \"is\", \"of\", and \"that\", may appear a lot of times but have little importance. Thus we need to weigh down the frequent terms while scale up the rare ones, by computing the following:\n",
    "\n",
    "IDF(t) = log_e(Total number of documents / Number of documents with term t in it).\n",
    "\n",
    "See below for a simple example.\n",
    "\n",
    "Example:\n",
    "\n",
    "Consider a document containing 100 words wherein the word cat appears 3 times.\n",
    "\n",
    "The term frequency (i.e., tf) for cat is then (3 / 100) = 0.03. Now, assume we have 10 million documents and the word cat appears in one thousand of these. Then, the inverse document frequency (i.e., idf) is calculated as log(10,000,000 / 1,000) = 4. Thus, the Tf-idf weight is the product of these quantities: 0.03 * 4 = 0.12."
   ]
  },
  {
   "cell_type": "code",
   "execution_count": 57,
   "metadata": {
    "collapsed": false
   },
   "outputs": [
    {
     "name": "stdout",
     "output_type": "stream",
     "text": [
      "(5572, 9624)\n",
      "  (0, 1096)\t0.242903771884\n",
      "  (0, 6152)\t0.313654438828\n",
      "  (0, 7397)\t0.247928569616\n",
      "  (0, 4522)\t0.250739163919\n",
      "  (0, 182)\t0.289315488112\n",
      "  (0, 4021)\t0.269665316453\n",
      "  (0, 6861)\t0.168173717353\n",
      "  (0, 5615)\t0.18283161901\n",
      "  (0, 9500)\t0.224966802608\n",
      "  (0, 6252)\t0.264976537395\n",
      "  (0, 4920)\t0.185013294707\n",
      "  (0, 4020)\t0.299417065352\n",
      "  (0, 522)\t0.313654438828\n",
      "  (0, 5584)\t0.151774819505\n",
      "  (0, 3478)\t0.313654438828\n",
      "  (0, 9328)\t0.188813072269\n",
      "  (1, 2003)\t0.290179104656\n",
      "  (1, 6284)\t0.377054701026\n",
      "  (1, 1453)\t0.562458096388\n",
      "  (1, 9418)\t0.400950140825\n",
      "  (1, 9087)\t0.204257935032\n",
      "  (1, 7085)\t0.504761735883\n",
      "  (2, 982)\t0.167268596465\n",
      "  (2, 5036)\t0.382596158394\n",
      "  (2, 9465)\t0.2100939169\n",
      "  :\t:\n",
      "  (5567, 2188)\t0.340845576247\n",
      "  (5568, 5810)\t0.332016511069\n",
      "  (5568, 3698)\t0.386332677633\n",
      "  (5568, 5565)\t0.337213441366\n",
      "  (5568, 5390)\t0.515168521674\n",
      "  (5568, 5063)\t0.601166023499\n",
      "  (5569, 6778)\t0.506896891827\n",
      "  (5569, 2160)\t0.609530778983\n",
      "  (5569, 8632)\t0.609530778983\n",
      "  (5570, 9366)\t0.209466203718\n",
      "  (5570, 6375)\t0.179126839232\n",
      "  (5570, 6944)\t0.235808097998\n",
      "  (5570, 9169)\t0.235083780335\n",
      "  (5570, 5398)\t0.207175291668\n",
      "  (5570, 8364)\t0.232304321702\n",
      "  (5570, 4984)\t0.271466605339\n",
      "  (5570, 5493)\t0.306252825073\n",
      "  (5570, 4052)\t0.314755553779\n",
      "  (5570, 5658)\t0.271466605339\n",
      "  (5570, 6018)\t0.319746203739\n",
      "  (5570, 3349)\t0.361305460936\n",
      "  (5570, 3866)\t0.378485646642\n",
      "  (5571, 6872)\t0.487804195175\n",
      "  (5571, 9044)\t0.528705724719\n",
      "  (5571, 2365)\t0.694634669319\n"
     ]
    }
   ],
   "source": [
    "messages_tfidf = TfidfTransformer().fit(cv_transform).transform(cv_transform)\n",
    "print messages_tfidf.shape\n",
    "print messages_tfidf"
   ]
  },
  {
   "cell_type": "markdown",
   "metadata": {},
   "source": [
    "## Step : 5 Training & Evaluating a Model"
   ]
  },
  {
   "cell_type": "markdown",
   "metadata": {},
   "source": [
    "Here in this step we will build the model using different classifier.For applying any machine learning model we first split the dataset into training and test dataset so that a model can be built using the training dataset and we can check the performance of the classifier/model using the unseen/test dataset.We should never actually evaluate the performance on the same dataset we used to train our model.So I'll put 30% data for the validation purpose which I'll never used in any way."
   ]
  },
  {
   "cell_type": "code",
   "execution_count": 58,
   "metadata": {
    "collapsed": true
   },
   "outputs": [],
   "source": [
    "features = mess['message']\n",
    "target = mess['label']"
   ]
  },
  {
   "cell_type": "code",
   "execution_count": 59,
   "metadata": {
    "collapsed": false
   },
   "outputs": [
    {
     "name": "stdout",
     "output_type": "stream",
     "text": [
      "3900 1672 5572\n"
     ]
    }
   ],
   "source": [
    "features_train, features_test, label_train, label_test = train_test_split(features, target, test_size=0.3)\n",
    "print len(features_train), len(features_test), len(features_train) + len(features_test)"
   ]
  },
  {
   "cell_type": "markdown",
   "metadata": {},
   "source": [
    "Here we will use SciKit Learn's pipeline capabilities to store a pipline of workflow.Pipeline class is a useful tool for encapsulating multiple different transformers alongside an estimator into one object, so that you only have to call your important methods once (fit(), predict(), etc)"
   ]
  },
  {
   "cell_type": "markdown",
   "metadata": {},
   "source": [
    "### Naive Bayes Classifier"
   ]
  },
  {
   "cell_type": "code",
   "execution_count": 60,
   "metadata": {
    "collapsed": true
   },
   "outputs": [],
   "source": [
    "#Naive Bayes Classifier\n",
    "pipeline_NB = Pipeline([\n",
    "    ('CV', CountVectorizer(analyzer=text_process)),  # strings to token integer counts\n",
    "    ('tfidf', TfidfTransformer()),  # integer counts to weighted TF-IDF scores\n",
    "    ('classifier', MultinomialNB()),  # train on TF-IDF vectors w/ Naive Bayes classifier\n",
    "])"
   ]
  },
  {
   "cell_type": "code",
   "execution_count": 61,
   "metadata": {
    "collapsed": false
   },
   "outputs": [
    {
     "name": "stdout",
     "output_type": "stream",
     "text": [
      "             precision    recall  f1-score   support\n",
      "\n",
      "        ham       1.00      0.97      0.98      1493\n",
      "       spam       0.77      1.00      0.87       179\n",
      "\n",
      "avg / total       0.98      0.97      0.97      1672\n",
      "\n"
     ]
    }
   ],
   "source": [
    "Model_NB = pipeline_NB.fit(features_train,label_train)\n",
    "Pred_NB = Model_NB.predict(features_test)\n",
    "print classification_report(Pred_NB,label_test)"
   ]
  },
  {
   "cell_type": "code",
   "execution_count": 64,
   "metadata": {
    "collapsed": false
   },
   "outputs": [
    {
     "data": {
      "text/html": [
       "<div>\n",
       "<table border=\"1\" class=\"dataframe\">\n",
       "  <thead>\n",
       "    <tr style=\"text-align: right;\">\n",
       "      <th>Predicted</th>\n",
       "      <th>ham</th>\n",
       "      <th>spam</th>\n",
       "    </tr>\n",
       "    <tr>\n",
       "      <th>Actual</th>\n",
       "      <th></th>\n",
       "      <th></th>\n",
       "    </tr>\n",
       "  </thead>\n",
       "  <tbody>\n",
       "    <tr>\n",
       "      <th>ham</th>\n",
       "      <td>1441</td>\n",
       "      <td>0</td>\n",
       "    </tr>\n",
       "    <tr>\n",
       "      <th>spam</th>\n",
       "      <td>52</td>\n",
       "      <td>179</td>\n",
       "    </tr>\n",
       "  </tbody>\n",
       "</table>\n",
       "</div>"
      ],
      "text/plain": [
       "Predicted   ham  spam\n",
       "Actual               \n",
       "ham        1441     0\n",
       "spam         52   179"
      ]
     },
     "execution_count": 64,
     "metadata": {},
     "output_type": "execute_result"
    }
   ],
   "source": [
    "pd.crosstab(label_test, Pred_NB, rownames=['Actual'], colnames=['Predicted'])"
   ]
  },
  {
   "cell_type": "code",
   "execution_count": 65,
   "metadata": {
    "collapsed": false
   },
   "outputs": [
    {
     "data": {
      "text/plain": [
       "array([ 0.01202444,  0.00176518,  0.00349098, ...,  0.80604217,\n",
       "        0.02087217,  0.01348544])"
      ]
     },
     "execution_count": 65,
     "metadata": {},
     "output_type": "execute_result"
    }
   ],
   "source": [
    "pred_prob_NB = Model_NB.predict_proba(features_test)[:, 1]\n",
    "pred_prob_NB"
   ]
  },
  {
   "cell_type": "code",
   "execution_count": 66,
   "metadata": {
    "collapsed": true
   },
   "outputs": [],
   "source": [
    "label_test_num = label_test.map({'ham':0, 'spam':1})"
   ]
  },
  {
   "cell_type": "code",
   "execution_count": 80,
   "metadata": {
    "collapsed": false
   },
   "outputs": [
    {
     "name": "stdout",
     "output_type": "stream",
     "text": [
      "0.985132378609\n"
     ]
    }
   ],
   "source": [
    "from sklearn.metrics import roc_curve, auc\n",
    "false_positive_rate_NB, true_positive_rate_NB, thresholds_NB = roc_curve(label_test_num, pred_prob_NB)\n",
    "roc_auc_NB = auc(false_positive_rate_NB, true_positive_rate_NB)\n",
    "print roc_auc_NB"
   ]
  },
  {
   "cell_type": "code",
   "execution_count": 85,
   "metadata": {
    "collapsed": false
   },
   "outputs": [
    {
     "data": {
      "image/png": "[encoded data removed]",
      "text/plain": [
       "<matplotlib.figure.Figure at 0x11f55860>"
      ]
     },
     "metadata": {},
     "output_type": "display_data"
    }
   ],
   "source": [
    "plt.title('Naive Bayes Receiver Operating Characteristic')\n",
    "plt.plot(false_positive_rate_NB, true_positive_rate_NB, 'b',\n",
    "label='AUC = %0.4f'% roc_auc_NB)\n",
    "plt.legend(loc='lower right')\n",
    "plt.plot([0,1],[0,1],'r--')\n",
    "plt.ylabel('True Positive Rate')\n",
    "plt.xlabel('False Positive Rate')\n",
    "plt.show()"
   ]
  },
  {
   "cell_type": "markdown",
   "metadata": {},
   "source": [
    "Our model gets a prediction accuracy of around 99%, which is very satisfying… 99% of the SMS tested were accurately predicted spam or ham"
   ]
  },
  {
   "cell_type": "markdown",
   "metadata": {},
   "source": [
    "###  Random Forest Classifier"
   ]
  },
  {
   "cell_type": "code",
   "execution_count": 69,
   "metadata": {
    "collapsed": true
   },
   "outputs": [],
   "source": [
    "pipeline_RF = Pipeline([\n",
    "    ('CV', CountVectorizer(analyzer=text_process)),  # strings to token integer counts\n",
    "    ('tfidf', TfidfTransformer()),  # integer counts to weighted TF-IDF scores\n",
    "    ('classifier', RandomForestClassifier(n_estimators = 100)),  # train on TF-IDF vectors w/ Random Forest classifier\n",
    "])"
   ]
  },
  {
   "cell_type": "code",
   "execution_count": 70,
   "metadata": {
    "collapsed": false
   },
   "outputs": [
    {
     "name": "stdout",
     "output_type": "stream",
     "text": [
      "             precision    recall  f1-score   support\n",
      "\n",
      "        ham       1.00      0.98      0.99      1476\n",
      "       spam       0.84      0.99      0.91       196\n",
      "\n",
      "avg / total       0.98      0.98      0.98      1672\n",
      "\n",
      "Predicted   ham  spam\n",
      "Actual               \n",
      "ham        1440     1\n",
      "spam         36   195\n"
     ]
    }
   ],
   "source": [
    "Model_RF = pipeline_RF.fit(features_train,label_train)\n",
    "Pred_RF = Model_RF.predict(features_test)\n",
    "print classification_report(Pred_RF,label_test)\n",
    "print pd.crosstab(label_test, Pred_RF, rownames=['Actual'], colnames=['Predicted'])"
   ]
  },
  {
   "cell_type": "code",
   "execution_count": 71,
   "metadata": {
    "collapsed": false
   },
   "outputs": [
    {
     "data": {
      "text/plain": [
       "array([ 0.02,  0.  ,  0.  , ...,  0.77,  0.07,  0.  ])"
      ]
     },
     "execution_count": 71,
     "metadata": {},
     "output_type": "execute_result"
    }
   ],
   "source": [
    "pred_prob_RF = Model_RF.predict_proba(features_test)[:, 1]\n",
    "pred_prob_RF"
   ]
  },
  {
   "cell_type": "code",
   "execution_count": 75,
   "metadata": {
    "collapsed": false
   },
   "outputs": [
    {
     "name": "stdout",
     "output_type": "stream",
     "text": [
      "0.984202588991\n"
     ]
    }
   ],
   "source": [
    "false_positive_rate_RF, true_positive_rate_RF, thresholds_RF = roc_curve(label_test_num, pred_prob_RF)\n",
    "roc_auc_RF = auc(false_positive_rate_RF, true_positive_rate_RF)\n",
    "print roc_auc_RF"
   ]
  },
  {
   "cell_type": "code",
   "execution_count": 86,
   "metadata": {
    "collapsed": false
   },
   "outputs": [
    {
     "data": {
      "image/png": "[encoded data removed]",
      "text/plain": [
       "<matplotlib.figure.Figure at 0x11f1c128>"
      ]
     },
     "metadata": {},
     "output_type": "display_data"
    }
   ],
   "source": [
    "plt.title('Random Forest Receiver Operating Characteristic')\n",
    "plt.plot(false_positive_rate_RF, true_positive_rate_RF, 'b',\n",
    "label='AUC = %0.4f'% roc_auc_RF)\n",
    "plt.legend(loc='lower right')\n",
    "plt.plot([0,1],[0,1],'r--')\n",
    "plt.ylabel('True Positive Rate')\n",
    "plt.xlabel('False Positive Rate')\n",
    "plt.show()"
   ]
  },
  {
   "cell_type": "markdown",
   "metadata": {},
   "source": [
    "### Support Vector Classifier"
   ]
  },
  {
   "cell_type": "code",
   "execution_count": 32,
   "metadata": {
    "collapsed": true
   },
   "outputs": [],
   "source": [
    "pipeline_SVM = Pipeline([\n",
    "    ('CV', CountVectorizer(analyzer=text_process)),  # strings to token integer counts\n",
    "    ('tfidf', TfidfTransformer()),  # integer counts to weighted TF-IDF scores\n",
    "    ('classifier', SVC())  # train on TF-IDF vectors w/ Support vector classifier\n",
    "])\n",
    "\n",
    "params = [\n",
    "  {'classifier__C': [1, 10, 100, 1000], 'classifier__gamma': [0.001, 0.0001], 'classifier__kernel': ['rbf', 'linear']},\n",
    "]\n",
    "\n",
    "\n",
    "grid_SVM = GridSearchCV(\n",
    "    pipeline_SVM,  # pipeline from above\n",
    "    param_grid=params,  # parameters to tune via cross validation\n",
    "    scoring='accuracy',  # what score are we optimizing?\n",
    "    cv=StratifiedKFold(label_train, n_folds=5),  # what type of cross validation to use\n",
    ")"
   ]
  },
  {
   "cell_type": "code",
   "execution_count": 33,
   "metadata": {
    "collapsed": false
   },
   "outputs": [
    {
     "name": "stdout",
     "output_type": "stream",
     "text": [
      "Wall time: 27min 46s\n",
      "[mean: 0.86282, std: 0.00000, params: {'classifier__gamma': 0.001, 'classifier__kernel': 'rbf', 'classifier__C': 1}, mean: 0.98308, std: 0.00297, params: {'classifier__gamma': 0.001, 'classifier__kernel': 'linear', 'classifier__C': 1}, mean: 0.86282, std: 0.00000, params: {'classifier__gamma': 0.0001, 'classifier__kernel': 'rbf', 'classifier__C': 1}, mean: 0.98308, std: 0.00297, params: {'classifier__gamma': 0.0001, 'classifier__kernel': 'linear', 'classifier__C': 1}, mean: 0.86282, std: 0.00000, params: {'classifier__gamma': 0.001, 'classifier__kernel': 'rbf', 'classifier__C': 10}, mean: 0.98462, std: 0.00256, params: {'classifier__gamma': 0.001, 'classifier__kernel': 'linear', 'classifier__C': 10}, mean: 0.86282, std: 0.00000, params: {'classifier__gamma': 0.0001, 'classifier__kernel': 'rbf', 'classifier__C': 10}, mean: 0.98462, std: 0.00256, params: {'classifier__gamma': 0.0001, 'classifier__kernel': 'linear', 'classifier__C': 10}, mean: 0.95513, std: 0.00493, params: {'classifier__gamma': 0.001, 'classifier__kernel': 'rbf', 'classifier__C': 100}, mean: 0.98282, std: 0.00330, params: {'classifier__gamma': 0.001, 'classifier__kernel': 'linear', 'classifier__C': 100}, mean: 0.86282, std: 0.00000, params: {'classifier__gamma': 0.0001, 'classifier__kernel': 'rbf', 'classifier__C': 100}, mean: 0.98282, std: 0.00330, params: {'classifier__gamma': 0.0001, 'classifier__kernel': 'linear', 'classifier__C': 100}, mean: 0.98513, std: 0.00251, params: {'classifier__gamma': 0.001, 'classifier__kernel': 'rbf', 'classifier__C': 1000}, mean: 0.98282, std: 0.00330, params: {'classifier__gamma': 0.001, 'classifier__kernel': 'linear', 'classifier__C': 1000}, mean: 0.95513, std: 0.00493, params: {'classifier__gamma': 0.0001, 'classifier__kernel': 'rbf', 'classifier__C': 1000}, mean: 0.98282, std: 0.00330, params: {'classifier__gamma': 0.0001, 'classifier__kernel': 'linear', 'classifier__C': 1000}]\n"
     ]
    }
   ],
   "source": [
    "%time SVM_detector = grid_SVM.fit(features_train, label_train) # find the best combination from param_svm\n",
    "print SVM_detector.grid_scores_"
   ]
  },
  {
   "cell_type": "code",
   "execution_count": 41,
   "metadata": {
    "collapsed": false
   },
   "outputs": [
    {
     "name": "stdout",
     "output_type": "stream",
     "text": [
      "[[1457    3]\n",
      " [  21  191]]\n",
      "Predicted   ham  spam\n",
      "Actual               \n",
      "ham        1457     3\n",
      "spam         21   191\n",
      "             precision    recall  f1-score   support\n",
      "\n",
      "        ham       0.99      1.00      0.99      1460\n",
      "       spam       0.98      0.90      0.94       212\n",
      "\n",
      "avg / total       0.99      0.99      0.99      1672\n",
      "\n"
     ]
    }
   ],
   "source": [
    "print confusion_matrix(label_test, SVM_detector.predict(features_test))\n",
    "print pd.crosstab(label_test, SVM_detector.predict(features_test), rownames=['Actual'], colnames=['Predicted'])\n",
    "print classification_report(label_test, SVM_detector.predict(features_test))"
   ]
  },
  {
   "cell_type": "markdown",
   "metadata": {},
   "source": [
    "## Step 6 : Sanity Check"
   ]
  },
  {
   "cell_type": "code",
   "execution_count": 83,
   "metadata": {
    "collapsed": false
   },
   "outputs": [
    {
     "name": "stdout",
     "output_type": "stream",
     "text": [
      "spam\n",
      "spam\n",
      "ham\n",
      "spam\n",
      "spam\n"
     ]
    }
   ],
   "source": [
    "print Model_NB.predict([\"IMPORTANT - You could be entitled up to £3,160 in compensation from mis-sold PPI on a credit card or loan. Please reply PPI for info or STOP to opt out.\"])[0]\n",
    "print Model_NB.predict([\"A loan for £950 is approved for you if you receive this SMS. 1 min verification & cash in 1 hr at www.[redacted].co.uk to opt out reply stop\"])[0]\n",
    "print Model_NB.predict([\"You have still not claimed the compensation you are due for the accident you had. To start the process please reply YES. To opt out text STOP\"])[0]\n",
    "print Model_NB.predict([\"Due to a new legislation, those struggling with debt can now apply to have it written off. For more information text the word INFO or to opt out text STOP\"])[0]\n",
    "print Model_NB.predict([\"Our records indicate your Pension is under performing to see higher growth and up to 25% cash release reply PENSION for a free review. To opt out reply STOP\"])[0]"
   ]
  },
  {
   "cell_type": "code",
   "execution_count": 84,
   "metadata": {
    "collapsed": false
   },
   "outputs": [
    {
     "name": "stdout",
     "output_type": "stream",
     "text": [
      "spam\n",
      "spam\n",
      "spam\n",
      "spam\n",
      "spam\n"
     ]
    }
   ],
   "source": [
    "print Model_RF.predict([\"IMPORTANT - You could be entitled up to £3,160 in compensation from mis-sold PPI on a credit card or loan. Please reply PPI for info or STOP to opt out.\"])[0]\n",
    "print Model_RF.predict([\"A loan for £950 is approved for you if you receive this SMS. 1 min verification & cash in 1 hr at www.[redacted].co.uk to opt out reply stop\"])[0]\n",
    "print Model_RF.predict([\"You have still not claimed the compensation you are due for the accident you had. To start the process please reply YES. To opt out text STOP\"])[0]\n",
    "print Model_RF.predict([\"Due to a new legislation, those struggling with debt can now apply to have it written off. For more information text the word INFO or to opt out text STOP\"])[0]\n",
    "print Model_RF.predict([\"Our records indicate your Pension is under performing to see higher growth and up to 25% cash release reply PENSION for a free review. To opt out reply STOP\"])[0]"
   ]
  },
  {
   "cell_type": "markdown",
   "metadata": {
    "collapsed": true
   },
   "source": [
    "Now I have a classification report for all the three models(Naive bayes, Support Vector classifier and Random Forest)and out of all the three, I got the best result with the support vector classifier with the accuracy, precision and recall value of 99% after tuning the parameters.But as we can see the total training time for SVC was 27min 46s which was comparatively high compared to the other two where it just took couple minutes to fit in the training examples. "
   ]
  },
  {
   "cell_type": "code",
   "execution_count": null,
   "metadata": {
    "collapsed": true
   },
   "outputs": [],
   "source": []
  }
 ],
 "metadata": {
  "kernelspec": {
   "display_name": "Python 2",
   "language": "python",
   "name": "python2"
  },
  "language_info": {
   "codemirror_mode": {
    "name": "ipython",
    "version": 2
   },
   "file_extension": ".py",
   "mimetype": "text/x-python",
   "name": "python",
   "nbconvert_exporter": "python",
   "pygments_lexer": "ipython2",
   "version": "2.7.13"
  }
 },
 "nbformat": 4,
 "nbformat_minor": 2
}
